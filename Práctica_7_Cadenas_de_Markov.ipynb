{
  "cells": [
    {
      "cell_type": "markdown",
      "metadata": {
        "id": "view-in-github",
        "colab_type": "text"
      },
      "source": [
        "<a href=\"https://colab.research.google.com/github/jorgg3/Regresion-y-Proyectos-en-Python/blob/main/Pr%C3%A1ctica_7_Cadenas_de_Markov.ipynb\" target=\"_parent\"><img src=\"https://colab.research.google.com/assets/colab-badge.svg\" alt=\"Open In Colab\"/></a>"
      ]
    },
    {
      "cell_type": "markdown",
      "id": "67d5c609",
      "metadata": {
        "id": "67d5c609"
      },
      "source": [
        "# Práctica 7\n",
        "Martínez de la Cruz José Jorge\n",
        "\n",
        "\n",
        "En esta práctica aprenderemos a simular Cadenas de Markov y con ello analizaremos el comportamiento de varios ejemplos."
      ]
    },
    {
      "cell_type": "code",
      "source": [
        "import numpy as np"
      ],
      "metadata": {
        "id": "jvn4mt62GRyT"
      },
      "id": "jvn4mt62GRyT",
      "execution_count": null,
      "outputs": []
    },
    {
      "cell_type": "markdown",
      "id": "90a4d1c9",
      "metadata": {
        "id": "90a4d1c9"
      },
      "source": [
        "**Operaciones con Matrices en Python**\n",
        "\n",
        "El modulo de algebra lineal de numpy nos ofrece una gran cantidad de rutinas para trabajar con matrices y vectores. La primera función que usaremos será  ``np.linalg.matrix_power()`` , la cual nos ayudará a elevar una matriz A a la potencia n. Para llevar a cabo esta operación simplemente hay que llamar a la función de la siguiente manera:"
      ]
    },
    {
      "cell_type": "code",
      "execution_count": 1,
      "id": "bdba4cb0",
      "metadata": {
        "id": "bdba4cb0",
        "colab": {
          "base_uri": "https://localhost:8080/",
          "height": 141
        },
        "outputId": "47cff5f7-c9d0-46f5-d2cf-e6f9a78ab9f7"
      },
      "outputs": [
        {
          "output_type": "error",
          "ename": "NameError",
          "evalue": "name 'np' is not defined",
          "traceback": [
            "\u001b[0;31m---------------------------------------------------------------------------\u001b[0m",
            "\u001b[0;31mNameError\u001b[0m                                 Traceback (most recent call last)",
            "\u001b[0;32m/tmp/ipython-input-2465820270.py\u001b[0m in \u001b[0;36m<cell line: 0>\u001b[0;34m()\u001b[0m\n\u001b[0;32m----> 1\u001b[0;31m \u001b[0mnp\u001b[0m\u001b[0;34m.\u001b[0m\u001b[0mlinalg\u001b[0m\u001b[0;34m.\u001b[0m\u001b[0mmatrix_power\u001b[0m\u001b[0;34m(\u001b[0m\u001b[0mA\u001b[0m\u001b[0;34m,\u001b[0m\u001b[0mn\u001b[0m\u001b[0;34m)\u001b[0m\u001b[0;34m\u001b[0m\u001b[0;34m\u001b[0m\u001b[0m\n\u001b[0m",
            "\u001b[0;31mNameError\u001b[0m: name 'np' is not defined"
          ]
        }
      ],
      "source": [
        "np.linalg.matrix_power(A,n)"
      ]
    },
    {
      "cell_type": "markdown",
      "id": "2baccca5",
      "metadata": {
        "id": "2baccca5"
      },
      "source": [
        "Otra función que nos será de utilidad es ``np.dot()``, la cual podemos usar para calcular productos entre matrices. En particular nosotros la usaremos para calcular el producto de un vector, v, con una matriz, A. Para llevar a cabo esta operación simplemente hay que llamar a la función de la siguiente manera:"
      ]
    },
    {
      "cell_type": "code",
      "execution_count": null,
      "id": "b4b61992",
      "metadata": {
        "id": "b4b61992"
      },
      "outputs": [],
      "source": [
        "np.dot(v,A)"
      ]
    },
    {
      "cell_type": "markdown",
      "id": "2580f9ae",
      "metadata": {
        "id": "2580f9ae"
      },
      "source": [
        "Recordemos que las dimensiones importan a la hora de llevar a cabo el producto. Veamos que la función ``np.dot()`` respeta esto:"
      ]
    },
    {
      "cell_type": "markdown",
      "id": "ea08f0c4",
      "metadata": {
        "id": "ea08f0c4"
      },
      "source": [
        "## Ejercicio 1:\n",
        "Escribe las matrices faltantes como un arreglo en Python y eleva todas las matrices a la potencia $n$ con $n=10,100,1000$\n",
        "$$\n",
        "P_1=\\begin{bmatrix}\n",
        "\\frac{1}{2} & \\frac{1}{2} & 0 \\\\\n",
        "\\frac{1}{2} & 0 & \\frac{1}{2} \\\\\n",
        "0 & \\frac{1}{2} & \\frac{1}{2}\n",
        "\\end{bmatrix}\n",
        "P_2=\\begin{bmatrix}\n",
        "\\frac{1}{2} & \\frac{1}{2} & 0 \\\\\n",
        "\\frac{1}{2} & \\frac{99}{200} & \\frac{1}{200} \\\\\n",
        "0 & 0 & 1\n",
        "\\end{bmatrix}  \\\\\n",
        "P_3=\\begin{bmatrix}\n",
        "0 & 1 & 0 & 0 & 0 & 0 \\\\\n",
        "\\frac{1}{5} & 0 & \\frac{4}{5} & 0 & 0 & 0 \\\\\n",
        "0 & \\frac{2}{5} & 0 & \\frac{3}{5} & 0 & 0 \\\\\n",
        "0 & 0 & \\frac{3}{5} & 0 & \\frac{2}{5} & 0 \\\\\n",
        "0 & 0 & 0 & \\frac{4}{5} & 0 & \\frac{1}{5} \\\\\n",
        "0 & 0 & 0 & 0 & 1 & 0\n",
        "\\end{bmatrix}  \n",
        "P_4=\\begin{bmatrix}\n",
        "1 & 0 & 0 & 0 & 0 & 0 \\\\\n",
        "0.5 & 0 & 0.5 & 0 & 0 & 0 \\\\\n",
        "0 & 0.5 & 0 & 0.5 & 0 & 0 \\\\\n",
        "0 & 0 & 0.5 & 0 & 0.5 & 0 \\\\\n",
        "0 & 0 & 0 & 0.5 & 0 & 0.5 \\\\\n",
        "0 & 0 & 0 & 0 & 0 & 1\n",
        "\\end{bmatrix}\n",
        "$$"
      ]
    },
    {
      "cell_type": "markdown",
      "source": [
        "Matríz $P_1$:"
      ],
      "metadata": {
        "id": "HeEtRJKkFsni"
      },
      "id": "HeEtRJKkFsni"
    },
    {
      "cell_type": "code",
      "source": [
        "P1 = [[1/2, 1/2, 0], [1/2, 0, 1/2], [0, 1/2, 1/2]] #Definimos la matríz que necesitamos\n",
        "P1_10 = np.linalg.matrix_power(P1,10) #Usando el código anterior, elevamos las matríces a las potencias necesitadas\n",
        "P1_100 = np.linalg.matrix_power(P1,100)\n",
        "P1_1000 = np.linalg.matrix_power(P1,1000)\n",
        "print(f\"P1 = {P1} \\n P1^10 = {P1_10} \\n P1^ 100 = {P1_100} \\n P1^1000 = {P1_1000}\") #Mandamos a imprimir las matríces"
      ],
      "metadata": {
        "colab": {
          "base_uri": "https://localhost:8080/"
        },
        "id": "KxvEizp8FwRx",
        "outputId": "e7e51916-08d1-4458-b35e-ba2402eda593"
      },
      "id": "KxvEizp8FwRx",
      "execution_count": null,
      "outputs": [
        {
          "output_type": "stream",
          "name": "stdout",
          "text": [
            "P1 = [[0.5, 0.5, 0], [0.5, 0, 0.5], [0, 0.5, 0.5]] \n",
            " P1^10 = [[0.33398438 0.33300781 0.33300781]\n",
            " [0.33300781 0.33398438 0.33300781]\n",
            " [0.33300781 0.33300781 0.33398438]] \n",
            " P1^ 100 = [[0.33333333 0.33333333 0.33333333]\n",
            " [0.33333333 0.33333333 0.33333333]\n",
            " [0.33333333 0.33333333 0.33333333]] \n",
            " P1^1000 = [[0.33333333 0.33333333 0.33333333]\n",
            " [0.33333333 0.33333333 0.33333333]\n",
            " [0.33333333 0.33333333 0.33333333]]\n"
          ]
        }
      ]
    },
    {
      "cell_type": "markdown",
      "source": [
        "Matríz $P_2$:"
      ],
      "metadata": {
        "id": "jtE3CFmbIJzs"
      },
      "id": "jtE3CFmbIJzs"
    },
    {
      "cell_type": "code",
      "source": [
        "P2 = [[1/2, 1/2, 0], [1/2, 99/200, 1/200], [0, 0, 1]] #Analógamente, hacemos el mismo proceso con las matríces faltantes\n",
        "P2_10 = np.linalg.matrix_power(P2,10)\n",
        "P2_100 = np.linalg.matrix_power(P2,100)\n",
        "P2_1000 = np.linalg.matrix_power(P2,1000)\n",
        "print(f\"P2 = {P2} \\n P2^10 = {P2_10} \\n P2^ 100 = {P2_100} \\n P2^1000 = {P2_1000}\")"
      ],
      "metadata": {
        "colab": {
          "base_uri": "https://localhost:8080/"
        },
        "id": "ZMatSUpsIL_a",
        "outputId": "4acea19a-762a-4304-e17c-6723663ba9b5"
      },
      "id": "ZMatSUpsIL_a",
      "execution_count": null,
      "outputs": [
        {
          "output_type": "stream",
          "name": "stdout",
          "text": [
            "P2 = [[0.5, 0.5, 0], [0.5, 0.495, 0.005], [0, 0, 1]] \n",
            " P2^10 = [[0.49010857 0.48766415 0.02222728]\n",
            " [0.48766415 0.48523193 0.02710392]\n",
            " [0.         0.         1.        ]] \n",
            " P2^ 100 = [[0.39147009 0.38951763 0.21901228]\n",
            " [0.38951763 0.38757491 0.22290745]\n",
            " [0.         0.         1.        ]] \n",
            " P2^1000 = [[0.04137724 0.04117087 0.91745189]\n",
            " [0.04117087 0.04096553 0.9178636 ]\n",
            " [0.         0.         1.        ]]\n"
          ]
        }
      ]
    },
    {
      "cell_type": "markdown",
      "source": [
        "Matríz $P_3$:\n",
        "P_3=\\begin{bmatrix}\n",
        "0 & 1 & 0 & 0 & 0 & 0 \\\\\n",
        "\\frac{1}{5} & 0 & \\frac{4}{5} & 0 & 0 & 0 \\\\\n",
        "0 & \\frac{2}{5} & 0 & \\frac{3}{5} & 0 & 0 \\\\\n",
        "0 & 0 & \\frac{3}{5} & 0 & \\frac{2}{5} & 0 \\\\\n",
        "0 & 0 & 0 & \\frac{4}{5} & 0 & \\frac{1}{5} \\\\\n",
        "0 & 0 & 0 & 0 & 1 & 0\n",
        "\\end{bmatrix}  "
      ],
      "metadata": {
        "id": "d50wUlWPIfYI"
      },
      "id": "d50wUlWPIfYI"
    },
    {
      "cell_type": "code",
      "source": [
        "P3 = [[0, 1, 0, 0, 0, 0], [1/5, 0, 4/5, 0, 0 ,0], [0, 2/5, 0, 3/5, 0, 0], [0, 0, 3/5, 0, 2/5, 0], [0, 0, 0, 4/5, 0, 1/5], [0, 0, 0, 0, 1, 0]]\n",
        "P3_10 = np.linalg.matrix_power(P3,10)\n",
        "P3_100 = np.linalg.matrix_power(P3,100)\n",
        "P3_1000 = np.linalg.matrix_power(P3,1000)\n",
        "print(f\"P3 = {P3} \\n P3^10 = {P3_10} \\n P3^ 100 = {P3_100} \\n P3^1000 = {P3_1000}\")"
      ],
      "metadata": {
        "colab": {
          "base_uri": "https://localhost:8080/"
        },
        "id": "Dp5fkbydIfEW",
        "outputId": "5bd68d13-8c39-4251-b5f6-50519b3587d2"
      },
      "id": "Dp5fkbydIfEW",
      "execution_count": null,
      "outputs": [
        {
          "output_type": "stream",
          "name": "stdout",
          "text": [
            "P3 = [[0, 1, 0, 0, 0, 0], [0.2, 0, 0.8, 0, 0, 0], [0, 0.4, 0, 0.6, 0, 0], [0, 0, 0.6, 0, 0.4, 0], [0, 0, 0, 0.8, 0, 0.2], [0, 0, 0, 0, 1, 0]] \n",
            " P3^10 = [[0.06438963 0.         0.62877901 0.         0.30683136 0.        ]\n",
            " [0.         0.31590124 0.         0.62273249 0.         0.06136627]\n",
            " [0.0628779  0.         0.62575585 0.         0.31136625 0.        ]\n",
            " [0.         0.31136625 0.         0.62575585 0.         0.0628779 ]\n",
            " [0.06136627 0.         0.62273249 0.         0.31590124 0.        ]\n",
            " [0.         0.30683136 0.         0.62877901 0.         0.06438963]] \n",
            " P3^ 100 = [[0.0625 0.     0.625  0.     0.3125 0.    ]\n",
            " [0.     0.3125 0.     0.625  0.     0.0625]\n",
            " [0.0625 0.     0.625  0.     0.3125 0.    ]\n",
            " [0.     0.3125 0.     0.625  0.     0.0625]\n",
            " [0.0625 0.     0.625  0.     0.3125 0.    ]\n",
            " [0.     0.3125 0.     0.625  0.     0.0625]] \n",
            " P3^1000 = [[0.0625 0.     0.625  0.     0.3125 0.    ]\n",
            " [0.     0.3125 0.     0.625  0.     0.0625]\n",
            " [0.0625 0.     0.625  0.     0.3125 0.    ]\n",
            " [0.     0.3125 0.     0.625  0.     0.0625]\n",
            " [0.0625 0.     0.625  0.     0.3125 0.    ]\n",
            " [0.     0.3125 0.     0.625  0.     0.0625]]\n"
          ]
        }
      ]
    },
    {
      "cell_type": "markdown",
      "source": [
        "Matríz $P_4$:\n",
        "P_4=\\begin{bmatrix}\n",
        "1 & 0 & 0 & 0 & 0 & 0 \\\\\n",
        "0.5 & 0 & 0.5 & 0 & 0 & 0 \\\\\n",
        "0 & 0.5 & 0 & 0.5 & 0 & 0 \\\\\n",
        "0 & 0 & 0.5 & 0 & 0.5 & 0 \\\\\n",
        "0 & 0 & 0 & 0.5 & 0 & 0.5 \\\\\n",
        "0 & 0 & 0 & 0 & 0 & 1\n",
        "\\end{bmatrix}"
      ],
      "metadata": {
        "id": "TTB_eRB9JeSj"
      },
      "id": "TTB_eRB9JeSj"
    },
    {
      "cell_type": "code",
      "source": [
        "P4 = [[1, 0, 0, 0, 0, 0], [1/2, 0, 1/2, 0, 0 ,0], [0, 1/2, 0, 1/2, 0, 0], [0, 0, 1/2, 0, 1/2, 0], [0, 0, 0, 1/2, 0, 1/2], [0, 0, 0, 0, 0, 1]]\n",
        "P4_10 = np.linalg.matrix_power(P4,10)\n",
        "P4_100 = np.linalg.matrix_power(P4,100)\n",
        "P4_1000 = np.linalg.matrix_power(P4,1000)\n",
        "print(f\"P4 = {P4} \\n P4^10 = {P4_10} \\n P4^ 100 = {P4_100} \\n P4^1000 = {P4_1000}\")"
      ],
      "metadata": {
        "colab": {
          "base_uri": "https://localhost:8080/"
        },
        "id": "b7Vweqe2J_ea",
        "outputId": "59516d68-be7c-4b3a-8f1d-1aa2a65d0916"
      },
      "id": "b7Vweqe2J_ea",
      "execution_count": null,
      "outputs": [
        {
          "output_type": "stream",
          "name": "stdout",
          "text": [
            "P4 = [[1, 0, 0, 0, 0, 0], [0.5, 0, 0.5, 0, 0, 0], [0, 0.5, 0, 0.5, 0, 0], [0, 0, 0.5, 0, 0.5, 0], [0, 0, 0, 0.5, 0, 0.5], [0, 0, 0, 0, 0, 1]] \n",
            " P4^10 = [[1.         0.         0.         0.         0.         0.        ]\n",
            " [0.75195312 0.03320312 0.         0.05371094 0.         0.16113281]\n",
            " [0.53710938 0.         0.08691406 0.         0.05371094 0.32226562]\n",
            " [0.32226562 0.05371094 0.         0.08691406 0.         0.53710938]\n",
            " [0.16113281 0.         0.05371094 0.         0.03320312 0.75195312]\n",
            " [0.         0.         0.         0.         0.         1.        ]] \n",
            " P4^ 100 = [[1.00000000e+00 0.00000000e+00 0.00000000e+00 0.00000000e+00\n",
            "  0.00000000e+00 0.00000000e+00]\n",
            " [8.00000000e-01 1.72699793e-10 0.00000000e+00 2.79434134e-10\n",
            "  0.00000000e+00 2.00000000e-01]\n",
            " [6.00000000e-01 0.00000000e+00 4.52133927e-10 0.00000000e+00\n",
            "  2.79434134e-10 4.00000000e-01]\n",
            " [4.00000000e-01 2.79434134e-10 0.00000000e+00 4.52133927e-10\n",
            "  0.00000000e+00 6.00000000e-01]\n",
            " [2.00000000e-01 0.00000000e+00 2.79434134e-10 0.00000000e+00\n",
            "  1.72699793e-10 8.00000000e-01]\n",
            " [0.00000000e+00 0.00000000e+00 0.00000000e+00 0.00000000e+00\n",
            "  0.00000000e+00 1.00000000e+00]] \n",
            " P4^1000 = [[1.00000000e+00 0.00000000e+00 0.00000000e+00 0.00000000e+00\n",
            "  0.00000000e+00 0.00000000e+00]\n",
            " [8.00000000e-01 2.50710166e-93 0.00000000e+00 4.05657569e-93\n",
            "  0.00000000e+00 2.00000000e-01]\n",
            " [6.00000000e-01 0.00000000e+00 6.56367735e-93 0.00000000e+00\n",
            "  4.05657569e-93 4.00000000e-01]\n",
            " [4.00000000e-01 4.05657569e-93 0.00000000e+00 6.56367735e-93\n",
            "  0.00000000e+00 6.00000000e-01]\n",
            " [2.00000000e-01 0.00000000e+00 4.05657569e-93 0.00000000e+00\n",
            "  2.50710166e-93 8.00000000e-01]\n",
            " [0.00000000e+00 0.00000000e+00 0.00000000e+00 0.00000000e+00\n",
            "  0.00000000e+00 1.00000000e+00]]\n"
          ]
        }
      ]
    },
    {
      "cell_type": "markdown",
      "id": "427bdfa4",
      "metadata": {
        "id": "427bdfa4"
      },
      "source": [
        "## Ejercicio 2:\n",
        "Haz una función que simule un estado dado una distribución de una cadena de Markov considerando una distribución inicial. $$v=(x_1 ,x_2 ,...,x_n)$$ Si numeramos los estados de la cadena comenzando con 0 la idea es exactamente la misma que cuando programaron el dado cargado en la práctica 10. Su función debe recibir:\n",
        "- Un vector de probabilidades cuya suma sea 1\n",
        "\n",
        "Debe regresar de manera aleatoria (con la probabilidad de elección correspondiente) una de las etiquetas de los estados."
      ]
    },
    {
      "cell_type": "code",
      "source": [
        "import random as rd"
      ],
      "metadata": {
        "id": "ZVpqFDuALI4m"
      },
      "id": "ZVpqFDuALI4m",
      "execution_count": null,
      "outputs": []
    },
    {
      "cell_type": "code",
      "execution_count": null,
      "id": "f8e55373",
      "metadata": {
        "id": "f8e55373"
      },
      "outputs": [],
      "source": [
        "def estado(vector):\n",
        "  pseudo = rd.uniform(0, 1) #Obtenemos un valor aleatorio uniforme entre el 0 y el 1\n",
        "  a = 0 #Contadores de nuestros intervalos\n",
        "  b = 0 #Contadores\n",
        "  for i in range(len(vector)): #Para cada uno de los posibles estados:\n",
        "    b = b + vector[i] #Asignamos a el intervalo [a, b) donde b es la probabilidad del primer estado\n",
        "    if pseudo <= b and pseudo >a : #Si el número aleatorio está en ese intervalo, entonces\n",
        "      estado = i #El estado toma el valor del estado donde se encontró\n",
        "    a = b #Si no, cambia al siguiente intervalo [a, b] donde a = b (anterior) y b = b(anterior) + la probabilidad del segundo estado\n",
        "  return estado"
      ]
    },
    {
      "cell_type": "code",
      "source": [
        "print(f\"Estado = {estado(( 0, 0, 1, 0, 0, 0))}\") #Probamos algunos ejemplos"
      ],
      "metadata": {
        "colab": {
          "base_uri": "https://localhost:8080/"
        },
        "id": "rcVPz0kxPj_-",
        "outputId": "812fa1ad-2bbb-494c-c3c5-a87493f8699b"
      },
      "id": "rcVPz0kxPj_-",
      "execution_count": null,
      "outputs": [
        {
          "output_type": "stream",
          "name": "stdout",
          "text": [
            "Estado = 2\n"
          ]
        }
      ]
    },
    {
      "cell_type": "code",
      "source": [
        "print(f\"Estado = {estado(( 1/6, 1/6,  1/6, 1/6, 1/6, 1/6))}\") #Probamos algunos ejemplos"
      ],
      "metadata": {
        "colab": {
          "base_uri": "https://localhost:8080/"
        },
        "id": "81W7YCzUPvSb",
        "outputId": "ff35488c-343c-48b6-b491-72c8d20b6e55"
      },
      "id": "81W7YCzUPvSb",
      "execution_count": null,
      "outputs": [
        {
          "output_type": "stream",
          "name": "stdout",
          "text": [
            "Estado = 0\n"
          ]
        }
      ]
    },
    {
      "cell_type": "code",
      "source": [
        "print(f\"Estado = {estado((1/20, 19/20, 0, 0))}\") #Probamos algunos ejemplos"
      ],
      "metadata": {
        "colab": {
          "base_uri": "https://localhost:8080/"
        },
        "id": "MVx_6blmP4nx",
        "outputId": "3d2a553a-67ca-443f-d48c-8ebe1ab17d11"
      },
      "id": "MVx_6blmP4nx",
      "execution_count": null,
      "outputs": [
        {
          "output_type": "stream",
          "name": "stdout",
          "text": [
            "Estado = 1\n"
          ]
        }
      ]
    },
    {
      "cell_type": "markdown",
      "source": [
        "LOS ESTADOS COMIENZAN EN 0"
      ],
      "metadata": {
        "id": "S5VOJZ37SLpr"
      },
      "id": "S5VOJZ37SLpr"
    },
    {
      "cell_type": "markdown",
      "id": "7a90e439",
      "metadata": {
        "id": "7a90e439"
      },
      "source": [
        "**Idea para simular una cadena de Markov**<br>\n",
        "Necesitamos generar una sucesión $\\{x_0 ,x_1 ,x_2 ,...,x_N\\}$ dado un espacio de estados $E$.\n",
        "Supongamos un espacio de estados $$E=\\{0,1,2\\}, π=\\left(\\frac{1}{3},\\frac{1}{3},\\frac{1}{3}\\right),\n",
        "P=\\begin{bmatrix}\n",
        "\\frac{1}{2} & \\frac{1}{2} & 0 \\\\\n",
        "\\frac{1}{2} & 0 & \\frac{1}{2} \\\\\n",
        "0 & \\frac{1}{2} & \\frac{1}{2}\n",
        "\\end{bmatrix}\n",
        "$$\n",
        "1. Simulamos $x_0$. Para esto necesitamos el vector de distribución inicial $π=\\left(\\frac{1}{3},\\frac{1}{3},\\frac{1}{3}\\right)$.\n",
        "\n",
        "Escogemos un estado aleatorio con la función anterior y $π$. Listo! tenemos $x_0$ supongamos que $x_0 =2$.\n",
        "\n",
        "2. Simulamos $x_1$. Una cadena de Markov depende del estado en que estuve antes, entonces tenemos que utilizar la matriz de trasición y fijarnos en el renglón del estado en que estabamos.\n",
        "$$P[2,:]= \\left(0,\\frac{1}{2},\\frac{1}{2}\\right)$$\n",
        "\n",
        "Escogemos un estado aleatorio con la función anterior y P[2,:].\n",
        "Listo! Repetimos... hasta n."
      ]
    },
    {
      "cell_type": "markdown",
      "id": "68a5f1a7",
      "metadata": {
        "id": "68a5f1a7"
      },
      "source": [
        "## Ejercicio 3:\n",
        "En este ejercicio programarán dos funciones que simule una cadena de Markov y los estados que va tomando en cada iteración. La diferencia entre estas funciones será el criterio de paro.\n",
        "- La primera función deberá hacer: :\n",
        "a. N iteraciones de la cadena de markov y la deberá recibir como parámetro.\n",
        "b. Regresar la lista de los estados que recorrió.\n",
        "- Mientras que la segunda función:\n",
        "1. deberá correr hasta que la cadena tome un estado e dado. Deberá recibir la etiqueta del estado al que se quiere llegar, y un número máximo de iteraciones, MaxIter , en caso de que nunca se alcance el estado deseado.\n",
        "\n",
        "Ambas funciones deben recibir **dos parámetros correspondientes a la cadena**.\n",
        "- El primer parámetro es deberá ser la matriz de transición de la cadena, $P$.\n",
        "- El segundo parámetro deberá ser la distribución inicial de la cadena, $\\Pi_0$."
      ]
    },
    {
      "cell_type": "code",
      "execution_count": null,
      "id": "358b45de",
      "metadata": {
        "id": "358b45de"
      },
      "outputs": [],
      "source": [
        "def iteraciones (transicion, inicial, N): #La función hará N iteraciones y pedirá una matríz de transcición y un vector inicial\n",
        "  n = 0 #Contador de las iteraciones\n",
        "  inicio = estado(inicial) #Definimos el estado de inicio como un estado sacado con la probabilidad del vector y con la función anterior\n",
        "  actual = inicio #El actual lo definimos como el incio\n",
        "  estados = [inicio] #En nuestra lista de estados, agregamos el estado de incio\n",
        "  while n < N: #Mientras hayamos hechos menos de N iteraciones:\n",
        "    renglon = transicion[actual] #Nos posicionamos en el renglon de la matríz que representa el estado en donde estamos\n",
        "    actual = estado(renglon) #Escogemos un estado con la función anterior\n",
        "    estados.append(actual) #Ingresar ese estado a la lista\n",
        "    n += 1 #Añadir uno al contados de estados\n",
        "  return estados #Regresamos la lista de estados"
      ]
    },
    {
      "cell_type": "markdown",
      "source": [
        "Probamos la función con un ejemplo:"
      ],
      "metadata": {
        "id": "Z9hCyY6UB6wK"
      },
      "id": "Z9hCyY6UB6wK"
    },
    {
      "cell_type": "code",
      "source": [
        "proba_estados = [1/5, 4/5, 0]  #La probabilidad incial del vector\n",
        "transicionc = [[0, 1, 0], [1/5, 4/5, 0], [1, 0, 0] ] #La matríz de transición\n",
        "iteraciones(transicionc, proba_estados, 5) #Aplicamos la función con los objetos definidos en lineas arriba"
      ],
      "metadata": {
        "colab": {
          "base_uri": "https://localhost:8080/"
        },
        "id": "J1c6KnY6TX95",
        "outputId": "8bb4576e-1a2e-4eb6-8a91-416e702f1d9b"
      },
      "id": "J1c6KnY6TX95",
      "execution_count": null,
      "outputs": [
        {
          "output_type": "execute_result",
          "data": {
            "text/plain": [
              "[0, 1, 1, 1, 1, 1]"
            ]
          },
          "metadata": {},
          "execution_count": 48
        }
      ]
    },
    {
      "cell_type": "markdown",
      "source": [
        "Segunda función:"
      ],
      "metadata": {
        "id": "w-VCypNNCe_0"
      },
      "id": "w-VCypNNCe_0"
    },
    {
      "cell_type": "markdown",
      "source": [
        "En este caso, los estados están etiquetados por números, pero, podríamos hacer una lista de estados con diferentas etiquetas:\n",
        "\n",
        "\n",
        "```\n",
        "estados = [\"estado 1\", \"estado 2\", ..., \"estado n\"]\n",
        "```\n",
        "\n",
        "De este modo, la función deberá recibir la lista de estados y para buscarlo haciendolo referencia deberiamos hacer referencia al índice:\n",
        "\n",
        "\n",
        "```\n",
        "estados[0] = \"estado 1\"\n",
        "estados[1] = \"estado 2\"\n",
        "estodos[n-1] = \"estado n\"\n",
        "```\n",
        "\n"
      ],
      "metadata": {
        "id": "UC_8tGKtCnS0"
      },
      "id": "UC_8tGKtCnS0"
    },
    {
      "cell_type": "code",
      "source": [
        "def lookfor (transicion, inicial, buscando, N): #Hacemos lo mismo, agregando el parametro del estado que buscamos\n",
        "  n = 0 #De la misma manera el contador de iteraciones\n",
        "  actual = estado(inicial) #Escogemos un estado inicial\n",
        "  if buscando == actual: #Si el estado inicial es igual al que buscamos\n",
        "    encontrado = f\"Se encontró el estado {buscando} en la iteración {n}\" #Asignamos dicha cadena a la variables resultado\n",
        "  else: #Si no\n",
        "    encontrado = f\"No se encontro el estado {buscando} en {N} iteraciones\" #Asignamos dicha cadena\n",
        "    while n < N and actual != buscando: #Mientras no pasemos nuestro máximo de iteraciones y mientras no hayamos encontrado el estado\n",
        "      renglon = transicion[actual] #Nos situamos al renglón en el que nos encontramos de la matríz\n",
        "      actual = estado(renglon)  #Sacamos un estado con la función de estado\n",
        "      if actual == buscando: #Si encontramos el estado que buscamos\n",
        "        encontrado = f\"Se encontró el estado {buscando} en la iteración {n+1}\" #Asignamos dicho valor a encontrado y se rompe el ciclo\n",
        "      n += 1 #Si no, hacer la siguiente iteración\n",
        "  return encontrado #Regresar la cadena correspondiente"
      ],
      "metadata": {
        "id": "XCHqutk2a3_Y"
      },
      "id": "XCHqutk2a3_Y",
      "execution_count": null,
      "outputs": []
    },
    {
      "cell_type": "code",
      "source": [
        "lookfor(transicionc, proba_estados, 0, 9)"
      ],
      "metadata": {
        "colab": {
          "base_uri": "https://localhost:8080/",
          "height": 36
        },
        "id": "Ol-p55qc1e44",
        "outputId": "45fc4eee-f8cc-481e-a10e-e8a2a05c16be"
      },
      "id": "Ol-p55qc1e44",
      "execution_count": null,
      "outputs": [
        {
          "output_type": "execute_result",
          "data": {
            "text/plain": [
              "'Se encontró el estado 0 en la iteración 1'"
            ],
            "application/vnd.google.colaboratory.intrinsic+json": {
              "type": "string"
            }
          },
          "metadata": {},
          "execution_count": 50
        }
      ]
    },
    {
      "cell_type": "markdown",
      "id": "2b4824ea",
      "metadata": {
        "id": "2b4824ea"
      },
      "source": [
        "## Ejercicio 4:\n",
        "Prueba la función del ejercicio anterior con las matrices del ejercicio 1. Prueba cada caso con distribuciones iniciales aleatorias usando las siguientes lineas de código:"
      ]
    },
    {
      "cell_type": "code",
      "execution_count": null,
      "id": "60e16c89",
      "metadata": {
        "id": "60e16c89",
        "colab": {
          "base_uri": "https://localhost:8080/"
        },
        "outputId": "79daf85a-9f08-47c1-8fb7-22eef429deba"
      },
      "outputs": [
        {
          "output_type": "execute_result",
          "data": {
            "text/plain": [
              "1.0"
            ]
          },
          "metadata": {},
          "execution_count": 68
        }
      ],
      "source": [
        "#Generamos n uniformes(0, 1), donde n corresponde al numero de estados.\n",
        "Pi_0  = np.random.random(2) #Dividimos al vector entre su suma y asi el vector es una distribución de probabilidad.\n",
        "Pi_0 /= Pi_0.sum()\n",
        "Pi_0"
      ]
    },
    {
      "cell_type": "markdown",
      "id": "a3f141d8",
      "metadata": {
        "id": "a3f141d8"
      },
      "source": [
        "Usa la primera función del ejercicio anterior con 100 iteraciones. Finalmente, grafica el vector de los estados recorridos por la cadena contra el tiempo."
      ]
    },
    {
      "cell_type": "code",
      "source": [
        "pi_1 = np.random.random(3)\n",
        "pi_1 /= pi_1.sum() #Obtenemos vectores de probabilidad\n",
        "graf1 = iteraciones(P1, pi_1, 100 ) #Calculamos la lista de 100 estados con ese vector de probabilidad incial\n",
        "\n",
        "pi_2 = np.random.random(3)\n",
        "pi_2 /= pi_2.sum() #Obtenemos vectores de probabilidad\n",
        "graf2 = iteraciones(P2, pi_2, 100 )  #Calculamos la lista de 100 estados con ese vector de probabilidad incial\n",
        "\n",
        "pi_3 = np.random.random(6)\n",
        "pi_3 /= pi_3.sum() #Obtenemos vectores de probabilidad\n",
        "graf3 = iteraciones(P3, pi_3, 100 )  #Calculamos la lista de 100 estados con ese vector de probabilidad incial\n",
        "\n",
        "pi_4 = np.random.random(6)\n",
        "pi_4 /= pi_4.sum() #Obtenemos vectores de probabilidad\n",
        "graf4 = iteraciones(P4, pi_4, 100 )  #Calculamos la lista de 100 estados con ese vector de probabilidad incial"
      ],
      "metadata": {
        "id": "MpSGNMCwAwrY"
      },
      "id": "MpSGNMCwAwrY",
      "execution_count": null,
      "outputs": []
    },
    {
      "cell_type": "code",
      "execution_count": null,
      "id": "9829ee58",
      "metadata": {
        "id": "9829ee58",
        "colab": {
          "base_uri": "https://localhost:8080/",
          "height": 718
        },
        "outputId": "cebef73c-8bcc-4825-c40e-e0fe928fae5a"
      },
      "outputs": [
        {
          "output_type": "display_data",
          "data": {
            "text/plain": [
              "<Figure size 1200x800 with 4 Axes>"
            ],
            "image/png": "[encoded data removed]"
          },
          "metadata": {}
        }
      ],
      "source": [
        "import matplotlib.pyplot as plt #Importamos las bibliotecas para graficar\n",
        "plt.figure(figsize=(12, 8)) #Usaremos subgraficas\n",
        "plt.subplots_adjust(wspace=0.3, hspace=0.3)\n",
        "x = np.arange(0, 101, 1) #Vector que usaremos de dominio\n",
        "\n",
        "grafica1 = plt.subplot(2, 2, 1) #Posicionamos las subgráficas\n",
        "grafica2 = plt.subplot(2,2, 2)\n",
        "grafica3 = plt.subplot(2,2, 3)\n",
        "grafica4 = plt.subplot(2,2, 4)\n",
        "\n",
        "grafica1.scatter(x, graf1, c = \"b\", label = \"Estados\") #Graficamos los estados respecto al tiempo de cada gráfica\n",
        "grafica1.set_title(\"$P1$\")\n",
        "grafica1.set_xlabel(\"Tiempo\")\n",
        "grafica1.set_ylabel(\"Estados en el tiempo\")\n",
        "grafica1.legend()\n",
        "\n",
        "grafica2.scatter(x, graf2,label = \"Estados\", c = \"violet\")\n",
        "grafica2.set_title(\"$P2$\") #Asignamos un título y un color diferente a cada gráfica\n",
        "grafica2.set_xlabel(\"Tiempo\")\n",
        "grafica2.set_ylabel(\"Estados en el tiempo\")\n",
        "grafica2.legend()\n",
        "\n",
        "grafica3.scatter(x, graf3, label = \"Estados\", c = \"green\")\n",
        "grafica3.set_title(\"$P3$\")\n",
        "grafica3.set_xlabel(\"Tiempo\") #Asignamos el nombre a los ejes\n",
        "grafica3.set_ylabel(\"Estados en el tiempo\")\n",
        "grafica3.legend()\n",
        "\n",
        "grafica4.scatter(x, graf4, c = \"red\", label = \"Estados\")\n",
        "grafica4.set_title(\"$P4$\")\n",
        "grafica4.set_xlabel(\"Tiempo\")\n",
        "grafica4.set_ylabel(\"Estados en el tiempo\")\n",
        "grafica4.legend() #Agregamos simbología\n",
        "#Mostramos las gráficas\n",
        "plt.show()\n"
      ]
    },
    {
      "cell_type": "markdown",
      "id": "db4ebd91",
      "metadata": {
        "id": "db4ebd91"
      },
      "source": [
        "## Ejercicio 5:\n",
        "Podemos aproximar la probabilidad de que la cadena se encuentre en cada estado después de muchas iteraciones usando la distribución inicial $\\Pi_0$ y la matriz de transición $P$, es llamada la distribución límite. Para ello basta hacer el producto $\\Pi_0P^n$ para valores de n grandes. Haz ese producto para cada matriz de transición utilizando $n=1000$ y diferentes tres distribuciones iniciales generadas de manera aleatoria. ¿La elección de distribución inicial afecta en algo?"
      ]
    },
    {
      "cell_type": "code",
      "execution_count": null,
      "id": "d0c03f2f",
      "metadata": {
        "id": "d0c03f2f",
        "colab": {
          "base_uri": "https://localhost:8080/"
        },
        "outputId": "4be5df47-355b-4da2-ed57-c48d42875567"
      },
      "outputs": [
        {
          "output_type": "stream",
          "name": "stdout",
          "text": [
            "La distribución límite de P1 para la distribución aleatoria 1 es: [0.33333333 0.33333333 0.33333333]\n",
            "La distribución límite de P1 para la distribución aleatoria 2 es: [0.33333333 0.33333333 0.33333333]\n",
            "La distribución límite de P1 para la distribución aleatoria 3 es: [0.33333333 0.33333333 0.33333333]\n"
          ]
        }
      ],
      "source": [
        "for i in range(3): #Nos aseguramos de obtener 3 distribuciones aleatorias diferentres\n",
        "  pi_1 = np.random.random(3) #Obtenemos la distribución inicial en cada caso\n",
        "  pi_1 /= pi_1.sum()\n",
        "  print(f\"La distribución límite de P1 para la distribución aleatoria {i+1} es: {np.dot(pi_1,P1_1000)}\") #Usamos el producto de un vector por una matríz para calcular la distribución límite"
      ]
    },
    {
      "cell_type": "code",
      "source": [
        "for i in range(3): #Nos aseguramos de obtener 3 distribuciones aleatorias diferentres\n",
        "  pi_2 = np.random.random(3) #Obtenemos la distribución inicial en cada caso\n",
        "  pi_2 /= pi_2.sum()\n",
        "  print(f\"La distribución límite de P2 para la distribución aleatoria {i+1} es: {np.dot(pi_2,P2_1000)}\")  #Usamos el producto de un vector por una matríz para calcular la distribución límite"
      ],
      "metadata": {
        "colab": {
          "base_uri": "https://localhost:8080/"
        },
        "id": "F1khpKmKHb8C",
        "outputId": "6e99167b-7c3b-440f-fd16-41db03c2518d"
      },
      "id": "F1khpKmKHb8C",
      "execution_count": null,
      "outputs": [
        {
          "output_type": "stream",
          "name": "stdout",
          "text": [
            "La distribución límite de P2 para la distribución aleatoria 1 es: [0.02327291 0.02315684 0.95357025]\n",
            "La distribución límite de P2 para la distribución aleatoria 2 es: [0.0304909  0.03033882 0.93917028]\n",
            "La distribución límite de P2 para la distribución aleatoria 3 es: [0.03757341 0.03738601 0.92504058]\n"
          ]
        }
      ]
    },
    {
      "cell_type": "code",
      "source": [
        "for i in range(3): #Nos aseguramos de obtener 3 distribuciones aleatorias diferentres\n",
        "  pi_3 = np.random.random(6) #Obtenemos la distribución inicial en cada caso\n",
        "  pi_3 /= pi_3.sum()\n",
        "  print(f\"La distribución límite de P3 para la distribución aleatoria {i+1} es: {np.dot(pi_3, P3_1000)}\")  #Usamos el producto de un vector por una matríz para calcular la distribución límite"
      ],
      "metadata": {
        "colab": {
          "base_uri": "https://localhost:8080/"
        },
        "id": "7Y1_A6aGHgUl",
        "outputId": "8ad88ea4-b585-4dcf-f675-4ddc5648de94"
      },
      "id": "7Y1_A6aGHgUl",
      "execution_count": null,
      "outputs": [
        {
          "output_type": "stream",
          "name": "stdout",
          "text": [
            "La distribución límite de P3 para la distribución aleatoria 1 es: [0.03531974 0.13590132 0.35319736 0.27180264 0.17659868 0.02718026]\n",
            "La distribución límite de P3 para la distribución aleatoria 2 es: [0.023128   0.19686002 0.23127996 0.39372004 0.11563998 0.039372  ]\n",
            "La distribución límite de P3 para la distribución aleatoria 3 es: [0.03321653 0.14641736 0.33216528 0.29283472 0.16608264 0.02928347]\n"
          ]
        }
      ]
    },
    {
      "cell_type": "code",
      "source": [
        "for i in range(3): #Nos aseguramos de obtener 3 distribuciones aleatorias diferentres\n",
        "  pi_4 = np.random.random(6) #Obtenemos la distribución inicial en cada caso\n",
        "  pi_4 /= pi_4.sum()\n",
        "  print(f\"La distribución límite de P4 para la distribución aleatoria {i+1} es: {np.dot(pi_4, P4_1000)}\")  #Usamos el producto de un vector por una matríz para calcular la distribución límite"
      ],
      "metadata": {
        "colab": {
          "base_uri": "https://localhost:8080/"
        },
        "id": "jsJjLRBhIH4Y",
        "outputId": "b77619b0-b0f1-479d-91e8-5998ecc085b1"
      },
      "id": "jsJjLRBhIH4Y",
      "execution_count": null,
      "outputs": [
        {
          "output_type": "stream",
          "name": "stdout",
          "text": [
            "La distribución límite de P4 para la distribución aleatoria 1 es: [5.21031619e-01 1.41806355e-93 2.50534925e-93 2.29447503e-93\n",
            " 1.54839099e-93 4.78968381e-01]\n",
            "La distribución límite de P4 para la distribución aleatoria 2 es: [4.61264018e-01 1.06024532e-93 2.38103929e-93 1.71551297e-93\n",
            " 1.47156321e-93 5.38735982e-01]\n",
            "La distribución límite de P4 para la distribución aleatoria 3 es: [4.97542023e-01 1.03181333e-93 3.16321542e-93 1.66950904e-93\n",
            " 1.95497464e-93 5.02457977e-01]\n"
          ]
        }
      ]
    },
    {
      "cell_type": "markdown",
      "source": [
        "En el primer caso, la distribución límite no cambia sin importar el estado inicial, sin embargo, en los demás. hay ligeros cambios (aunque el estado con mayor probabilidad se conserva) como en la segunda matríz, y en otros, hay cambios que puede que importen más, como en la última matríz de transición. Podemos decir que, la distribución límite depende de la matríz de transición y del estado inicial, ya que, dependiendo de este último se converge a probabilidades distintas."
      ],
      "metadata": {
        "id": "qNABG0nHH2NM"
      },
      "id": "qNABG0nHH2NM"
    }
  ],
  "metadata": {
    "hide_input": false,
    "kernelspec": {
      "display_name": "Python 3 (ipykernel)",
      "language": "python",
      "name": "python3"
    },
    "language_info": {
      "codemirror_mode": {
        "name": "ipython",
        "version": 3
      },
      "file_extension": ".py",
      "mimetype": "text/x-python",
      "name": "python",
      "nbconvert_exporter": "python",
      "pygments_lexer": "ipython3",
      "version": "3.9.7"
    },
    "nbTranslate": {
      "displayLangs": [
        "*"
      ],
      "hotkey": "alt-t",
      "langInMainMenu": true,
      "sourceLang": "en",
      "targetLang": "fr",
      "useGoogleTranslate": true
    },
    "toc": {
      "base_numbering": 1,
      "nav_menu": {},
      "number_sections": true,
      "sideBar": true,
      "skip_h1_title": false,
      "title_cell": "Table of Contents",
      "title_sidebar": "Contents",
      "toc_cell": false,
      "toc_position": {},
      "toc_section_display": true,
      "toc_window_display": false
    },
    "varInspector": {
      "cols": {
        "lenName": 16,
        "lenType": 16,
        "lenVar": 40
      },
      "kernels_config": {
        "python": {
          "delete_cmd_postfix": "",
          "delete_cmd_prefix": "del ",
          "library": "var_list.py",
          "varRefreshCmd": "print(var_dic_list())"
        },
        "r": {
          "delete_cmd_postfix": ") ",
          "delete_cmd_prefix": "rm(",
          "library": "var_list.r",
          "varRefreshCmd": "cat(var_dic_list()) "
        }
      },
      "types_to_exclude": [
        "module",
        "function",
        "builtin_function_or_method",
        "instance",
        "_Feature"
      ],
      "window_display": false
    },
    "colab": {
      "provenance": [],
      "include_colab_link": true
    }
  },
  "nbformat": 4,
  "nbformat_minor": 5
}