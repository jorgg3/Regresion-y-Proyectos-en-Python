{
  "cells": [
    {
      "cell_type": "markdown",
      "metadata": {
        "id": "view-in-github",
        "colab_type": "text"
      },
      "source": [
        "<a href=\"https://colab.research.google.com/github/jorgg3/Regresion-y-Proyectos-en-Python/blob/main/Practica_5__Jorge_de_la_Cruz.ipynb\" target=\"_parent\"><img src=\"https://colab.research.google.com/assets/colab-badge.svg\" alt=\"Open In Colab\"/></a>"
      ]
    },
    {
      "cell_type": "markdown",
      "id": "eb1996c7",
      "metadata": {
        "id": "eb1996c7"
      },
      "source": [
        "# Números pseudoaleatorios\n",
        "José Jorge Martínez de la Cruz\n",
        "## Ejercicio 1\n"
      ]
    },
    {
      "cell_type": "markdown",
      "id": "839f6363",
      "metadata": {
        "id": "839f6363"
      },
      "source": [
        "El método del cuadrado nos permite obtener una sucesión de números aleatorios entre 0 y 9999. Este método fue desarrollado por J. Von Neuman, S. Ulm y N. Metropolis en 1964 en Los Alamos Laboratory, para simular colisiones de neutrones, como parte del proyecto Manhattan.  El gran problema de este método es que siempre degenera a cero, pero dependiendo de la semilla podría ser que la cantidad de pasos sea tan grande como queramos.\n",
        "\n",
        "- Programe una función que, dada una semilla y un cierto máximo número $N$, devuelva una sucesión de números aleatorios en $[0,1]$ a lo más $N$ elementos.\n"
      ]
    },
    {
      "cell_type": "code",
      "source": [
        "def cuadrado (seed, N): #definimos la función\n",
        "  n = 0  #Nuestro contador, que nos dara el ciclo\n",
        "\n",
        "  aleatorios = [] #La lista donde guardaremos nuestros puntos\n",
        "\n",
        "  while n < N: #Condición inicial del ciclo\n",
        "\n",
        "   seed_1 = str(seed**2) #Haremos uso de los str para facilitar el algoritmo\n",
        "   while len(seed_1) < 8: #Acompletar en caso de que no sean 8 dígitos\n",
        "    seed_1 = \"0\"+ seed_1\n",
        "\n",
        "   if seed_1[2:6] == '0000': #Cuando nuestro algoritmo se degenere al 0, romper el ciclo\n",
        "    aleatorios.append(0) #Ingresar un 0 y romper\n",
        "    break\n",
        "   else:\n",
        "      seed = int(seed_1[2:6]) #Regresar a entero el valor\n",
        "      aleatorios.append((seed)/10000) #Guardamos el valor del cuadrado / 10^4\n",
        "   n += 1 #Añadimos 1 al contador\n",
        "  return aleatorios #Regresar la tupla"
      ],
      "metadata": {
        "id": "5cBJ4ylxU5v-"
      },
      "id": "5cBJ4ylxU5v-",
      "execution_count": null,
      "outputs": []
    },
    {
      "cell_type": "code",
      "source": [
        "cuadrado(1111, 5) #Ejemplo, usando como semilla 1111, con N= 5"
      ],
      "metadata": {
        "colab": {
          "base_uri": "https://localhost:8080/"
        },
        "id": "YSdbCNkaWw1V",
        "outputId": "556576aa-e873-4b3c-ec08-79824d481b81"
      },
      "id": "YSdbCNkaWw1V",
      "execution_count": null,
      "outputs": [
        {
          "output_type": "execute_result",
          "data": {
            "text/plain": [
              "[0.2343, 0.4896, 0.9708, 0.2452, 0.0123]"
            ]
          },
          "metadata": {},
          "execution_count": 4
        }
      ]
    },
    {
      "cell_type": "markdown",
      "source": [
        "- Si usamos como semilla $x_0=4450$  ¿Cuánto tiempo tardará en degenerar a cero? ¿Si usamos $x_0=4451$? ¿ Qué puedes conlcuir de esto?\n",
        "Para realizar la aproximación, usaremos un ciclo que nos dira el paso en el que se degenera a 0"
      ],
      "metadata": {
        "id": "X-hqgzo5byCx"
      },
      "id": "X-hqgzo5byCx"
    },
    {
      "cell_type": "code",
      "source": [
        "n = 1\n",
        "while cuadrado(4450,n)[n-1] != 0: #Condición que nos contará los pasos tomados\n",
        "  n += 1\n",
        "print(f\"La semilla 4450 tardó {n} pasos en degenerar a 0 \")"
      ],
      "metadata": {
        "colab": {
          "base_uri": "https://localhost:8080/"
        },
        "id": "gjk5UylwfCKJ",
        "outputId": "8dd9441f-2938-4ae8-f308-d5f8ff47b364"
      },
      "id": "gjk5UylwfCKJ",
      "execution_count": null,
      "outputs": [
        {
          "output_type": "stream",
          "name": "stdout",
          "text": [
            "La semilla 4450 tardó 22 pasos en degenerar a 0 \n"
          ]
        }
      ]
    },
    {
      "cell_type": "markdown",
      "source": [
        "En el primer caso, con la semilla 4450 tardarón 6 pasos en que se degenerará a 0"
      ],
      "metadata": {
        "id": "21hOircQjlug"
      },
      "id": "21hOircQjlug"
    },
    {
      "cell_type": "code",
      "source": [
        "n = 1\n",
        "while cuadrado(4451,n)[n-1] != 0: #Condición que nos contará los pasos tomados\n",
        "  n += 1\n",
        "print(f\"La semilla 4451 tardó {n} pasos en degenerar a 0 \")"
      ],
      "metadata": {
        "colab": {
          "base_uri": "https://localhost:8080/",
          "height": 366
        },
        "id": "-z9LFQTfjCdI",
        "outputId": "0236ae1a-eedf-4727-8b4c-65aee56d32cf"
      },
      "id": "-z9LFQTfjCdI",
      "execution_count": null,
      "outputs": [
        {
          "output_type": "error",
          "ename": "KeyboardInterrupt",
          "evalue": "ignored",
          "traceback": [
            "\u001b[0;31m---------------------------------------------------------------------------\u001b[0m",
            "\u001b[0;31mKeyboardInterrupt\u001b[0m                         Traceback (most recent call last)",
            "\u001b[0;32m<ipython-input-6-74ca0ba1fd1c>\u001b[0m in \u001b[0;36m<cell line: 2>\u001b[0;34m()\u001b[0m\n\u001b[1;32m      1\u001b[0m \u001b[0mn\u001b[0m \u001b[0;34m=\u001b[0m \u001b[0;36m1\u001b[0m\u001b[0;34m\u001b[0m\u001b[0;34m\u001b[0m\u001b[0m\n\u001b[0;32m----> 2\u001b[0;31m \u001b[0;32mwhile\u001b[0m \u001b[0mcuadrado\u001b[0m\u001b[0;34m(\u001b[0m\u001b[0;36m4451\u001b[0m\u001b[0;34m,\u001b[0m\u001b[0mn\u001b[0m\u001b[0;34m)\u001b[0m\u001b[0;34m[\u001b[0m\u001b[0mn\u001b[0m\u001b[0;34m-\u001b[0m\u001b[0;36m1\u001b[0m\u001b[0;34m]\u001b[0m \u001b[0;34m!=\u001b[0m \u001b[0;36m0\u001b[0m\u001b[0;34m:\u001b[0m \u001b[0;31m#Condición que nos contará los pasos tomados\u001b[0m\u001b[0;34m\u001b[0m\u001b[0;34m\u001b[0m\u001b[0m\n\u001b[0m\u001b[1;32m      3\u001b[0m   \u001b[0mn\u001b[0m \u001b[0;34m+=\u001b[0m \u001b[0;36m1\u001b[0m\u001b[0;34m\u001b[0m\u001b[0;34m\u001b[0m\u001b[0m\n\u001b[1;32m      4\u001b[0m \u001b[0mprint\u001b[0m\u001b[0;34m(\u001b[0m\u001b[0;34mf\"La semilla 4451 tardó {n} pasos en degenerar a 0 \"\u001b[0m\u001b[0;34m)\u001b[0m\u001b[0;34m\u001b[0m\u001b[0;34m\u001b[0m\u001b[0m\n",
            "\u001b[0;32m<ipython-input-3-7a822499b976>\u001b[0m in \u001b[0;36mcuadrado\u001b[0;34m(seed, N)\u001b[0m\n\u001b[1;32m      7\u001b[0m \u001b[0;34m\u001b[0m\u001b[0m\n\u001b[1;32m      8\u001b[0m    \u001b[0mseed_1\u001b[0m \u001b[0;34m=\u001b[0m \u001b[0mstr\u001b[0m\u001b[0;34m(\u001b[0m\u001b[0mseed\u001b[0m\u001b[0;34m**\u001b[0m\u001b[0;36m2\u001b[0m\u001b[0;34m)\u001b[0m \u001b[0;31m#Haremos uso de los str para facilitar el algoritmo\u001b[0m\u001b[0;34m\u001b[0m\u001b[0;34m\u001b[0m\u001b[0m\n\u001b[0;32m----> 9\u001b[0;31m    \u001b[0;32mwhile\u001b[0m \u001b[0mlen\u001b[0m\u001b[0;34m(\u001b[0m\u001b[0mseed_1\u001b[0m\u001b[0;34m)\u001b[0m \u001b[0;34m<\u001b[0m \u001b[0;36m8\u001b[0m\u001b[0;34m:\u001b[0m \u001b[0;31m#Acompletar en caso de que no sean 8 dígitos\u001b[0m\u001b[0;34m\u001b[0m\u001b[0;34m\u001b[0m\u001b[0m\n\u001b[0m\u001b[1;32m     10\u001b[0m     \u001b[0mseed_1\u001b[0m \u001b[0;34m=\u001b[0m \u001b[0;34m\"0\"\u001b[0m\u001b[0;34m+\u001b[0m \u001b[0mseed_1\u001b[0m\u001b[0;34m\u001b[0m\u001b[0;34m\u001b[0m\u001b[0m\n\u001b[1;32m     11\u001b[0m \u001b[0;34m\u001b[0m\u001b[0m\n",
            "\u001b[0;31mKeyboardInterrupt\u001b[0m: "
          ]
        }
      ]
    },
    {
      "cell_type": "markdown",
      "source": [
        "Con la segunda semilla, se tuvo que romper el ciclo, pues, indicaba que sería un ciclo infinito o tomaría un número muy grande de pasos. Con esto, concluímos que no lo importante aquí es la semilla, pues habrá que escoger una semilla adecuada para evitar que nuestros números aleatorios vayan a 0 de manera muy rápida."
      ],
      "metadata": {
        "id": "oPNx91EBju8C"
      },
      "id": "oPNx91EBju8C"
    },
    {
      "cell_type": "markdown",
      "source": [
        "- Muestre que este método aproxima la distribución uniforme.<br/>\n",
        "Para esto, aproxime la función de distribución acumulada, dada por\n",
        "\t$$\n",
        "\tF_U(z)=P\\left[\\{\\omega \\in \\Omega: U(\\omega)\\leq z\\}\\right], \\qquad z\\in \\mathbb{R}\n",
        "\t$$\n",
        "\tusando frecuencias relativas de aparición.\n"
      ],
      "metadata": {
        "id": "yzvA5MshecX9"
      },
      "id": "yzvA5MshecX9"
    },
    {
      "cell_type": "code",
      "source": [
        "#primero, crearemos la indicadora, la cual nos ayudará a contabilizar las apariciones de la frecuiencia que buscamos\n",
        "def contadorfr (lista, z, x=0 ):\n",
        "  cont = 0\n",
        "  for i in lista:\n",
        "    if i <= z and i >x:\n",
        "      cont += 1\n",
        "  return cont/len(lista)"
      ],
      "metadata": {
        "id": "ektEZh7Fbx0u"
      },
      "id": "ektEZh7Fbx0u",
      "execution_count": null,
      "outputs": []
    },
    {
      "cell_type": "markdown",
      "source": [
        "  Una vez que tenemos la función que nos ayudará a calcular las frecuencias de cada número que escogamos, en este caso, entre el 0 y el 1. Ahora, lo que tenemos que hacer, es un vector, con números, entre el 0 y el 1, de manera que funcione como nuestro vector"
      ],
      "metadata": {
        "id": "anUYvtoLXUx6"
      },
      "id": "anUYvtoLXUx6"
    },
    {
      "cell_type": "code",
      "source": [
        "import numpy as np\n",
        "x = np.arange(-0.7,1.3,0.01)\n",
        "y = []\n",
        "lista = cuadrado(9356, 100) #Usando la semilla 9356\n",
        "#Ahora, lo que haremos, es ir llamando a la función en cada uno de los elementos\n",
        "for i in range(len(x)):\n",
        "  a = contadorfr(lista, x[i])\n",
        "  y.append(a)"
      ],
      "metadata": {
        "id": "ApRglLNNWJT3"
      },
      "id": "ApRglLNNWJT3",
      "execution_count": null,
      "outputs": []
    },
    {
      "cell_type": "code",
      "source": [
        "import matplotlib.pyplot as plt\n",
        "z = np.arange(0,2,1)\n",
        "plt.plot(x,y,label = \"Distribución acumulada\")\n",
        "plt.plot(z,z, label = \"Distribución esperada\")\n",
        "plt.xlabel(\"Intervalo entre 0 y 1\")\n",
        "plt.ylabel(\"Distribución\")\n",
        "plt.grid()\n",
        "plt.legend()\n",
        "plt.title(\"$F_v(z), z \\in R$\")\n",
        "plt.show()\n"
      ],
      "metadata": {
        "colab": {
          "base_uri": "https://localhost:8080/",
          "height": 474
        },
        "id": "SkuGMNFcH_Ks",
        "outputId": "d8cc654e-ec75-4332-8aa1-2421af5544eb"
      },
      "id": "SkuGMNFcH_Ks",
      "execution_count": null,
      "outputs": [
        {
          "output_type": "display_data",
          "data": {
            "text/plain": [
              "<Figure size 640x480 with 1 Axes>"
            ],
            "image/png": "[encoded data removed]"
          },
          "metadata": {}
        }
      ]
    },
    {
      "cell_type": "markdown",
      "source": [
        "Vemos que, en esencia, la función si logra aproximar la función de la distribución acumulada, que, efectivamene antes del 0 es 0, y, después del 1 es 1, y en el intervalo se mantiene creciente."
      ],
      "metadata": {
        "id": "lT7jRpYTNEhs"
      },
      "id": "lT7jRpYTNEhs"
    },
    {
      "cell_type": "markdown",
      "id": "00d2e0e9",
      "metadata": {
        "id": "00d2e0e9"
      },
      "source": [
        "## Ejercicio 2"
      ]
    },
    {
      "cell_type": "markdown",
      "id": "58225c6b",
      "metadata": {
        "id": "58225c6b"
      },
      "source": [
        "Usando números pseudoaleatorios, aproxime el valor de la integral\n",
        "$$\n",
        "\\int_{0}^{0.55}\\tfrac{\\Gamma(100)}{\\Gamma(50)\\Gamma(50)}x^{49}(1-x)^{49}dx,\n",
        "$$\n",
        "que corresponde a la probabilidad de que una variable aleatoria con distribución $Beta(50,50)$ tome valores menores que $0.55$. Veamos que $\\tfrac{\\Gamma(100)}{\\Gamma(50)\\Gamma(50)}$ es un número constante y por lo tanto, no depende de $x$, así que podemos sacarlo de la integral, teniendo: $$ \\tfrac{\\Gamma(100)}{\\Gamma(50)\\Gamma(50)} \\int_{0} ^{0.55}x^{49}(1-x)^{49}dx$$"
      ]
    },
    {
      "cell_type": "markdown",
      "source": [
        "Para aplicar el método de Montecarlo, veamos que la función en cuestión es acotada, entonces debe de haber un valor máximo que la función tome, digamos  $M$, ahora tenemos que tomar pares ordenados del conjunto de $$ [0,0.55] × [0,M] $$"
      ],
      "metadata": {
        "id": "CzOskLtdQ3eq"
      },
      "id": "CzOskLtdQ3eq"
    },
    {
      "cell_type": "code",
      "source": [
        "#Para ello, creearemos la lista con N=100 elementos aleatorios entre 0 y 1\n",
        "ab = np.array(cuadrado(9356, 1000)) #Para hacer uso de los operadores con las listas, usarmos numpy\n",
        "OM = np.array(cuadrado(4578,1000))\n",
        "#Para c haremos un ciclo que nos ayude a encontrar valores de la función y tomaremos el máximo\n",
        "x = np.arange(0,0.55, 0.005)\n",
        "datos = []\n",
        "for i in x:\n",
        "  dato = (i**49)*((1-i)**49)\n",
        "  datos.append(dato)\n",
        "c = max(datos) #Nuestro valor máximo es el que nos ayudará para acotar la función\n",
        "OM = c*OM\n",
        "ab = 0.55*ab"
      ],
      "metadata": {
        "id": "IXcbXpsERWWT"
      },
      "id": "IXcbXpsERWWT",
      "execution_count": null,
      "outputs": []
    },
    {
      "cell_type": "code",
      "source": [
        "plt.plot"
      ],
      "metadata": {
        "id": "5hBzPv0OQs70"
      },
      "id": "5hBzPv0OQs70",
      "execution_count": null,
      "outputs": []
    },
    {
      "cell_type": "code",
      "source": [
        "#Lo que haremos ahora será un ciclo que nos ayuda a tener el contador y, con ello, la probabilidad\n",
        "counter = 0\n",
        "for i in range(len(OM)):\n",
        "  d = ((ab[i])**49)*((1-(ab[i]))**49) #Aplicamos la función a cada uno de nuestros valores aleatorios\n",
        "  if OM[i] <= d: #Y comparamos\n",
        "    counter += 1\n",
        "p = counter/len(OM) #Sacamos la frecuencia\n",
        "print(f\"p = {counter/len(OM)}\")"
      ],
      "metadata": {
        "colab": {
          "base_uri": "https://localhost:8080/"
        },
        "id": "BAeDSZNpVBxq",
        "outputId": "e9849efa-a5a3-49cf-ae45-b4e49c0cfac0"
      },
      "id": "BAeDSZNpVBxq",
      "execution_count": null,
      "outputs": [
        {
          "output_type": "stream",
          "name": "stdout",
          "text": [
            "p = 0.244\n"
          ]
        }
      ]
    },
    {
      "cell_type": "markdown",
      "source": [
        "Así, para calcular el área tendremos que $$A = M(b-a)p \\\\ A = (0.55)^{49}(1-0.55)^{49} (0.55)(0.181)$$"
      ],
      "metadata": {
        "id": "uF51ap1qYFTp"
      },
      "id": "uF51ap1qYFTp"
    },
    {
      "cell_type": "code",
      "source": [
        "A = c*(0.55)*p\n",
        "print(f\"El área bajo la curva, solo de la integral es de {A}\")"
      ],
      "metadata": {
        "colab": {
          "base_uri": "https://localhost:8080/"
        },
        "id": "3YD6XKFZYc7Q",
        "outputId": "33245047-dc31-4636-bd39-264c0e6eb016"
      },
      "id": "3YD6XKFZYc7Q",
      "execution_count": null,
      "outputs": [
        {
          "output_type": "stream",
          "name": "stdout",
          "text": [
            "El área bajo la curva, solo de la integral es de 4.234605339226392e-31\n"
          ]
        }
      ]
    },
    {
      "cell_type": "code",
      "source": [
        "#Por las definiciones de la función gamma\n",
        "f = np.math.factorial(99)\n",
        "g = np.math.factorial(49)\n",
        "print(f\"Así, el área bajo al curva total es de A ={(f*A)/(g*g)} u^2\")"
      ],
      "metadata": {
        "colab": {
          "base_uri": "https://localhost:8080/"
        },
        "id": "m88s4xaIYvwt",
        "outputId": "22e023f0-d4fc-4e98-e1f0-bdbc153a2b19"
      },
      "id": "m88s4xaIYvwt",
      "execution_count": null,
      "outputs": [
        {
          "output_type": "stream",
          "name": "stdout",
          "text": [
            "Así, el área bajo al curva total es de A =1.068087565735939 u^2\n"
          ]
        }
      ]
    },
    {
      "cell_type": "markdown",
      "id": "b7f663b6",
      "metadata": {
        "id": "b7f663b6"
      },
      "source": [
        "## Ejercicio 3"
      ]
    },
    {
      "cell_type": "markdown",
      "id": "3e1d0608",
      "metadata": {
        "id": "3e1d0608"
      },
      "source": [
        "Ahora, como todo buen probabilista, nos meteremos un poco en el mundo de los juegos de azar. En este ejercicio deberán simular una variable aleatoria que simule un dado justo y una que simule un dado cargado. <br>\n",
        "**Dado Justo**:<br>\n",
        "Deberán simular un dado justo que tenga $k$ caras; es decir que puede salir cada cara con probabilidad $1/k$. Programen una función que reciba el número de caras que tendrá el dado y regrese alguna de ellas con igual probabilidad. <bR>\n",
        "**Pista**: Recuerden la función de distribución de la uniforme discreta."
      ]
    },
    {
      "cell_type": "markdown",
      "id": "57c9c3ea",
      "metadata": {
        "id": "57c9c3ea"
      },
      "source": [
        "**Dado Cargado**:<br>\n",
        "Ahora, queremos modelar un dado cargado con $k$ caras; es decir que no todas las caras tienen la misma probabilidad de salir. Para poder simular este dado su función deberá recibir un vector de probabilidades $(p_1 ,p_2 ,...,p_k)$ donde $p_i$ es la probabilidad de obtener la i-ésima cara del dado. Recuerden que se debe cumplir que $p_1 +p_2 +...+p_k =1$. <br>\n",
        "**Pista**: Su función debe ser muy similar a la del dado justo pero ahora en lugar de aparecer las probabilidades $1/k$ debarán aparecer las $p_i$."
      ]
    },
    {
      "cell_type": "code",
      "source": [
        "def dado(k):\n",
        "  lista = cuadrado(9356, 1000000) #Generamos la lista de números aleatorios\n",
        "  proporciones = [] #Una lista donde se regresen los vectores\n",
        "\n",
        "  for i in range (k): #Para cada una de las caras\n",
        "    b = contadorfr(lista, (i+1)/k, i/k) #Usaremos el contador frecuencial, con 2 números\n",
        "    proporciones.append(b) #Así, aseguramos que el número quede entre [i/k, i+1/k]\n",
        "  return proporciones\n"
      ],
      "metadata": {
        "id": "j6nbuigyZpgZ"
      },
      "id": "j6nbuigyZpgZ",
      "execution_count": null,
      "outputs": []
    },
    {
      "cell_type": "markdown",
      "source": [
        "Pongamos a prueba, entonces, la función debería devolver un vector en donde la suma de sus entradas sea $1$"
      ],
      "metadata": {
        "id": "Y7xJWifBz7j9"
      },
      "id": "Y7xJWifBz7j9"
    },
    {
      "cell_type": "code",
      "source": [
        "sum(dado(4))"
      ],
      "metadata": {
        "id": "jyLJMrSLiI7S",
        "colab": {
          "base_uri": "https://localhost:8080/"
        },
        "outputId": "c82f9c21-c50a-44e4-c3d2-4ae067a6575f"
      },
      "id": "jyLJMrSLiI7S",
      "execution_count": null,
      "outputs": [
        {
          "output_type": "execute_result",
          "data": {
            "text/plain": [
              "1.0"
            ]
          },
          "metadata": {},
          "execution_count": 24
        }
      ]
    },
    {
      "cell_type": "markdown",
      "source": [
        "Vemos que, en efecto, la suma del vector dado es 1, ahora, en este caso, tenemos que la proporción de aparición de nuestros números aleatorios no es certeramente uniforme (visto ya en la gráfica de arriba), entonces , en el caso del dado de 4 caras, debería de tener una probabilidad aproximada de $0.25$"
      ],
      "metadata": {
        "id": "9PMdtp6K0YYk"
      },
      "id": "9PMdtp6K0YYk"
    },
    {
      "cell_type": "code",
      "source": [
        "dado(4)"
      ],
      "metadata": {
        "colab": {
          "base_uri": "https://localhost:8080/"
        },
        "id": "dLM1palV1EJ0",
        "outputId": "da70834a-fb00-46fe-ac87-504b2c275ab1"
      },
      "id": "dLM1palV1EJ0",
      "execution_count": null,
      "outputs": [
        {
          "output_type": "execute_result",
          "data": {
            "text/plain": [
              "[0.250008, 0.249992, 0.250003, 0.249997]"
            ]
          },
          "metadata": {},
          "execution_count": 25
        }
      ]
    },
    {
      "cell_type": "markdown",
      "source": [
        "Vemos que, aunque las caras no dan completamente 0.25 como se esperaría, el error no es muy grande y puede repararse con una semilla más precisa"
      ],
      "metadata": {
        "id": "kgv8BZqv1X6R"
      },
      "id": "kgv8BZqv1X6R"
    },
    {
      "cell_type": "markdown",
      "source": [
        "Para realizar el dado cargado, veamos que se tiene que recibir una lista de vectores en forma\n",
        "$$ p = [p_1, p_2, p_3, ..., p_n] $$\n",
        "así, como $$ \\sum _{i=1}^{n} p_i = 1$$ podemos dividir el intervalo $[0,1]$ de manera $[0,1] = [0, p_1] \\cup (p_1, p_1+p_2] \\cup (p_1 + p_2, p_1 + p_2 + p_3] \\cup ... \\cup (\\sum_{i = 1}^{n-1}p_i,1]$"
      ],
      "metadata": {
        "id": "Xtwvo1T98oAG"
      },
      "id": "Xtwvo1T98oAG"
    },
    {
      "cell_type": "code",
      "source": [
        "def dadocargado(vector, k):\n",
        "  lista = cuadrado(2578,10000) #Creamos un vector con números aleatorios entre el 0 y el 1\n",
        "  proporciones = [] #Vector de probabilidades\n",
        "  a = 0\n",
        "  b = 0 #Contadores\n",
        "  for i in range(k):\n",
        "    b = b + vector[i]\n",
        "    c = contadorfr(lista, b, a) #Aplicamos la idea explicada arriba con los pi's\n",
        "    proporciones.append(c) #Ingresamos la frecuencia al vector\n",
        "    a = b\n",
        "  return proporciones\n"
      ],
      "metadata": {
        "id": "jxARwGECDcfH"
      },
      "id": "jxARwGECDcfH",
      "execution_count": null,
      "outputs": []
    },
    {
      "cell_type": "markdown",
      "source": [
        "De la misma manera, pondremos a prueba el código esperando que la suma sea 1 y que el vector sea similar al que dimos de entrada"
      ],
      "metadata": {
        "id": "5fM98m_Eq-UZ"
      },
      "id": "5fM98m_Eq-UZ"
    },
    {
      "cell_type": "code",
      "source": [
        "vector =[0.567, 0, 0.433, 0]\n",
        "print(f\"La suma del vector de regreso es {sum(dadocargado(vector,4))}\")\n",
        "print(f\"Además, dado el vector {vector}, regresa el vector {dadocargado(vector,4)}\")"
      ],
      "metadata": {
        "colab": {
          "base_uri": "https://localhost:8080/"
        },
        "id": "7dDzcO6iEULV",
        "outputId": "cae8d9ab-bd73-40a3-d2c9-fec6e2362d20"
      },
      "id": "7dDzcO6iEULV",
      "execution_count": null,
      "outputs": [
        {
          "output_type": "stream",
          "name": "stdout",
          "text": [
            "La suma del vector de regreso es 1.0\n",
            "Además, dado el vector [0.567, 0, 0.433, 0], regresa el vector [0.5005, 0.0, 0.4995, 0.0]\n"
          ]
        }
      ]
    },
    {
      "cell_type": "markdown",
      "source": [
        "Podemos ver que, aunque la aproximación es cercana, (esencialmente) el dado resulta cargado hacia los vectores que pedimos, esto puede deberse a lo mismo, el método y/o la semilla que aproxima no es del todo uniforme, por lo que al no hay una proporción de distribución uniforme al momento de realizar la frecuencia."
      ],
      "metadata": {
        "id": "Gm8_ZJJcrzU2"
      },
      "id": "Gm8_ZJJcrzU2"
    },
    {
      "cell_type": "code",
      "source": [
        "plt.hist(cuadrado(9356,100000))\n",
        "plt.title(\"Semilla 9356\")\n",
        "plt.xlabel(\"Intervalo [0, 1]\")\n",
        "plt.ylabel(\"Frecuencia de aparición\")\n",
        "plt.show()"
      ],
      "metadata": {
        "colab": {
          "base_uri": "https://localhost:8080/",
          "height": 472
        },
        "id": "WZekz9U6sJmc",
        "outputId": "21e62c0d-afb9-4a42-c58e-5877cf1b8b19"
      },
      "id": "WZekz9U6sJmc",
      "execution_count": null,
      "outputs": [
        {
          "output_type": "display_data",
          "data": {
            "text/plain": [
              "<Figure size 640x480 with 1 Axes>"
            ],
            "image/png": "[encoded data removed]"
          },
          "metadata": {}
        }
      ]
    },
    {
      "cell_type": "markdown",
      "source": [
        "A manera de conclusión, viendo los histogramas, la proporción y frecuencia depende completamente de la semilla, habrá que encontrar una semilla que haga que la frecuencia sea uniforme para lograr buenas aplicaciones probabilisticas"
      ],
      "metadata": {
        "id": "b8SF3XfQspEp"
      },
      "id": "b8SF3XfQspEp"
    },
    {
      "cell_type": "code",
      "source": [
        "plt.figure(figsize=(12, 8))\n",
        "plt.subplots_adjust(wspace=0.3, hspace=0.3)\n",
        "\n",
        "histograma_0 = plt.subplot(2, 2, 1)\n",
        "histograma_1 = plt.subplot(2,2, 2)\n",
        "histograma_2= plt.subplot(2,2, 3)\n",
        "histograma_3 = plt.subplot(2,2, 4)\n",
        "\n",
        "histograma_0.hist(cuadrado(2578,100000), color = \"blue\")\n",
        "histograma_0.set_title(\"Semilla 2578\")\n",
        "histograma_0.set_xlabel(\"Intervalo [0, 1]\")\n",
        "histograma_0.set_ylabel(\"Frecuencia de aparición\")\n",
        "\n",
        "histograma_1.hist(cuadrado(1111,100000), color = \"pink\")\n",
        "histograma_1.set_title(\"Semilla 1111\")\n",
        "histograma_1.set_xlabel(\"Intervalo [0, 1]\")\n",
        "histograma_1.set_ylabel(\"Frecuencia de aparición\")\n",
        "\n",
        "histograma_2.hist(cuadrado(4321,100000), color = \"green\")\n",
        "histograma_2.set_title(\"Semilla 4321\")\n",
        "histograma_2.set_xlabel(\"Intervalo [0, 1]\")\n",
        "histograma_2.set_ylabel(\"Frecuencia de aparición\")\n",
        "\n",
        "histograma_3.hist(cuadrado(1234,100000), color = \"orange\")\n",
        "histograma_3.set_title(\"Semilla 1234\")\n",
        "histograma_3.set_xlabel(\"Intervalo [0, 1]\")\n",
        "histograma_3.set_ylabel(\"Frecuencia de aparición\")\n",
        "\n",
        "plt.show()"
      ],
      "metadata": {
        "colab": {
          "base_uri": "https://localhost:8080/",
          "height": 718
        },
        "id": "WOMwTzImtSep",
        "outputId": "9b9ff835-30a3-4040-8894-3d4efb82ccd2"
      },
      "id": "WOMwTzImtSep",
      "execution_count": null,
      "outputs": [
        {
          "output_type": "display_data",
          "data": {
            "text/plain": [
              "<Figure size 1200x800 with 4 Axes>"
            ],
            "image/png": "[encoded data removed]"
          },
          "metadata": {}
        }
      ]
    }
  ],
  "metadata": {
    "hide_input": false,
    "kernelspec": {
      "display_name": "Python 3 (ipykernel)",
      "language": "python",
      "name": "python3"
    },
    "language_info": {
      "codemirror_mode": {
        "name": "ipython",
        "version": 3
      },
      "file_extension": ".py",
      "mimetype": "text/x-python",
      "name": "python",
      "nbconvert_exporter": "python",
      "pygments_lexer": "ipython3",
      "version": "3.9.7"
    },
    "nbTranslate": {
      "displayLangs": [
        "*"
      ],
      "hotkey": "alt-t",
      "langInMainMenu": true,
      "sourceLang": "en",
      "targetLang": "fr",
      "useGoogleTranslate": true
    },
    "toc": {
      "base_numbering": 1,
      "nav_menu": {},
      "number_sections": true,
      "sideBar": true,
      "skip_h1_title": false,
      "title_cell": "Table of Contents",
      "title_sidebar": "Contents",
      "toc_cell": false,
      "toc_position": {},
      "toc_section_display": true,
      "toc_window_display": false
    },
    "varInspector": {
      "cols": {
        "lenName": 16,
        "lenType": 16,
        "lenVar": 40
      },
      "kernels_config": {
        "python": {
          "delete_cmd_postfix": "",
          "delete_cmd_prefix": "del ",
          "library": "var_list.py",
          "varRefreshCmd": "print(var_dic_list())"
        },
        "r": {
          "delete_cmd_postfix": ") ",
          "delete_cmd_prefix": "rm(",
          "library": "var_list.r",
          "varRefreshCmd": "cat(var_dic_list()) "
        }
      },
      "types_to_exclude": [
        "module",
        "function",
        "builtin_function_or_method",
        "instance",
        "_Feature"
      ],
      "window_display": false
    },
    "colab": {
      "provenance": [],
      "include_colab_link": true
    }
  },
  "nbformat": 4,
  "nbformat_minor": 5
}