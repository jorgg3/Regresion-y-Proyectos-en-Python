{
  "nbformat": 4,
  "nbformat_minor": 0,
  "metadata": {
    "colab": {
      "provenance": [],
      "authorship_tag": "ABX9TyMEdTi+QDHGzkJ7ZnbnHUoV",
      "include_colab_link": true
    },
    "kernelspec": {
      "name": "python3",
      "display_name": "Python 3"
    },
    "language_info": {
      "name": "python"
    }
  },
  "cells": [
    {
      "cell_type": "markdown",
      "metadata": {
        "id": "view-in-github",
        "colab_type": "text"
      },
      "source": [
        "<a href=\"https://colab.research.google.com/github/jorgg3/Regresion-y-Proyectos-en-Python/blob/main/Regresi%C3%B3n_Lineal.ipynb\" target=\"_parent\"><img src=\"https://colab.research.google.com/assets/colab-badge.svg\" alt=\"Open In Colab\"/></a>"
      ]
    },
    {
      "cell_type": "markdown",
      "source": [
        "# Regresión Lineal de una base de datos de precipitaciones."
      ],
      "metadata": {
        "id": "n4quiCCHW4dj"
      }
    },
    {
      "cell_type": "markdown",
      "source": [
        "En este trabajo, se realizará una regresión lineal simple y múltiple de un conjunto de datos relacionada con la precipitación: \\\n",
        "La base de precipitacion.csv contiene el registro de 1827 precipitaciones y 17 variables de interés\n",
        "\n",
        "- Station: Estación climática que registró el evento\n",
        "- Name: Nombre del lugar donde se registró la precipitación\n",
        "- Date: Fecha de la precipitación\n",
        "= AverageDailyWind,\n",
        "= = AverageTemp- MaxTemp, MinTemp\n",
        "- Fastest5MinWindDirection: Dirección del viento más rápido en lapsos de 5 min\n",
        "- Fastest2MinWindDirection: Dirección del viento más rápido en lapsos de 2 min\n",
        "= Fastest2MinWindSpeed: Velocidad más rápida del viento en lapsos de 5 min\n",
        "- Fastest5MinWindSpeed: Velocidad más rápida del viento en lapsos de 2 min\n",
        "- WeatherType01: Tipo 1 de clima\n",
        "- WeatherType02: Tipo 2 de clima\n",
        "- WeatherType08: Tipo 8 de clima\n",
        "\n",
        "Objetivos\n",
        "\n",
        "Se desea estudiar la precipitación a partir de las otras variables recolectadas. Para esto se deberá:\n",
        "\n",
        "- Ajustar un modelo de regresión lineal simple con una variable continua de interés. Reportar la adecuación del modelo, así como la construcción de los intervalos de confianza para la respuesta media y la predicción al 95%.\n",
        "- Ajustar un modelo de regresión lineal múltiple. Reportar la adecuación del modelo y compararlo con el modelo de regresión lineal simple."
      ],
      "metadata": {
        "id": "FqqUEBJ7fTm_"
      }
    },
    {
      "cell_type": "code",
      "source": [
        "#Instalamos las librerias\n",
        "from sklearn.linear_model import LinearRegression #Regresión\n",
        "import numpy as np #Cálculos numéricos\n",
        "from sklearn.metrics import r2_score #Ajuste del modelo\n",
        "import matplotlib.pyplot as plt #Gráficas\n",
        "import seaborn as sns #Gráficas\n",
        "import pandas as pd #Manejo de las bases de datos\n",
        "import statsmodels.api as sm #QQ plot\n",
        "#Pruebas no paramétricas\n",
        "import scipy.stats as stats\n",
        "from statsmodels.stats.outliers_influence import variance_inflation_factor\n",
        "from statsmodels.stats.diagnostic import het_breuschpagan\n",
        "from scipy.stats import shapiro\n",
        "from scipy.stats import kstest, norm\n"
      ],
      "metadata": {
        "id": "2k9dija4gqr3"
      },
      "execution_count": null,
      "outputs": []
    },
    {
      "cell_type": "code",
      "source": [
        "# Cargar datos\n",
        "df = pd.read_csv(\"precipitacion.csv\") #Leer el archivo csv\n",
        "# Filtraremos las filas donde la precipitación sea mayor que 0\n",
        "df = df[df['Precipitation'] > 0].copy()\n",
        "df.head(2) #Para ver las primeras 2 filas"
      ],
      "metadata": {
        "colab": {
          "base_uri": "https://localhost:8080/",
          "height": 254
        },
        "id": "9I7WhY4IhcRf",
        "outputId": "ef4ef57a-cddc-4127-8d3a-d33def27ca9c"
      },
      "execution_count": null,
      "outputs": [
        {
          "output_type": "execute_result",
          "data": {
            "text/plain": [
              "   Unnamed: 0      Station                             Name        Date  \\\n",
              "3           4  USW00093134  LOS ANGELES DOWNTOWN USC, CA US  2016-01-04   \n",
              "4           5  USW00093134  LOS ANGELES DOWNTOWN USC, CA US  2016-01-05   \n",
              "\n",
              "   AverageDailyWind  PeakGustTime  Precipitation  AverageTemp  MaxTemp  \\\n",
              "3              1.34           NaN           0.01    60.941633       69   \n",
              "4              2.46           NaN           1.61    56.158671       59   \n",
              "\n",
              "   MinTemp  Fastest5MinWindDirection  Fastest2MinWindDirection  \\\n",
              "3       55                     270.0                     280.0   \n",
              "4       49                     140.0                     140.0   \n",
              "\n",
              "   Fastest2MinWindSpeed  Fastest5MinWindSpeed  WeatherType01  WeatherType02  \\\n",
              "3                   8.1                  14.1            NaN            NaN   \n",
              "4                  10.1                  16.1            1.0            1.0   \n",
              "\n",
              "   WeatherType08  \n",
              "3            NaN  \n",
              "4            NaN  "
            ],
            "text/html": [
              "\n",
              "  <div id=\"df-d4eedfbf-6909-4fb0-b775-156dc7f61412\" class=\"colab-df-container\">\n",
              "    <div>\n",
              "<style scoped>\n",
              "    .dataframe tbody tr th:only-of-type {\n",
              "        vertical-align: middle;\n",
              "    }\n",
              "\n",
              "    .dataframe tbody tr th {\n",
              "        vertical-align: top;\n",
              "    }\n",
              "\n",
              "    .dataframe thead th {\n",
              "        text-align: right;\n",
              "    }\n",
              "</style>\n",
              "<table border=\"1\" class=\"dataframe\">\n",
              "  <thead>\n",
              "    <tr style=\"text-align: right;\">\n",
              "      <th></th>\n",
              "      <th>Unnamed: 0</th>\n",
              "      <th>Station</th>\n",
              "      <th>Name</th>\n",
              "      <th>Date</th>\n",
              "      <th>AverageDailyWind</th>\n",
              "      <th>PeakGustTime</th>\n",
              "      <th>Precipitation</th>\n",
              "      <th>AverageTemp</th>\n",
              "      <th>MaxTemp</th>\n",
              "      <th>MinTemp</th>\n",
              "      <th>Fastest5MinWindDirection</th>\n",
              "      <th>Fastest2MinWindDirection</th>\n",
              "      <th>Fastest2MinWindSpeed</th>\n",
              "      <th>Fastest5MinWindSpeed</th>\n",
              "      <th>WeatherType01</th>\n",
              "      <th>WeatherType02</th>\n",
              "      <th>WeatherType08</th>\n",
              "    </tr>\n",
              "  </thead>\n",
              "  <tbody>\n",
              "    <tr>\n",
              "      <th>3</th>\n",
              "      <td>4</td>\n",
              "      <td>USW00093134</td>\n",
              "      <td>LOS ANGELES DOWNTOWN USC, CA US</td>\n",
              "      <td>2016-01-04</td>\n",
              "      <td>1.34</td>\n",
              "      <td>NaN</td>\n",
              "      <td>0.01</td>\n",
              "      <td>60.941633</td>\n",
              "      <td>69</td>\n",
              "      <td>55</td>\n",
              "      <td>270.0</td>\n",
              "      <td>280.0</td>\n",
              "      <td>8.1</td>\n",
              "      <td>14.1</td>\n",
              "      <td>NaN</td>\n",
              "      <td>NaN</td>\n",
              "      <td>NaN</td>\n",
              "    </tr>\n",
              "    <tr>\n",
              "      <th>4</th>\n",
              "      <td>5</td>\n",
              "      <td>USW00093134</td>\n",
              "      <td>LOS ANGELES DOWNTOWN USC, CA US</td>\n",
              "      <td>2016-01-05</td>\n",
              "      <td>2.46</td>\n",
              "      <td>NaN</td>\n",
              "      <td>1.61</td>\n",
              "      <td>56.158671</td>\n",
              "      <td>59</td>\n",
              "      <td>49</td>\n",
              "      <td>140.0</td>\n",
              "      <td>140.0</td>\n",
              "      <td>10.1</td>\n",
              "      <td>16.1</td>\n",
              "      <td>1.0</td>\n",
              "      <td>1.0</td>\n",
              "      <td>NaN</td>\n",
              "    </tr>\n",
              "  </tbody>\n",
              "</table>\n",
              "</div>\n",
              "    <div class=\"colab-df-buttons\">\n",
              "\n",
              "  <div class=\"colab-df-container\">\n",
              "    <button class=\"colab-df-convert\" onclick=\"convertToInteractive('df-d4eedfbf-6909-4fb0-b775-156dc7f61412')\"\n",
              "            title=\"Convert this dataframe to an interactive table.\"\n",
              "            style=\"display:none;\">\n",
              "\n",
              "  <svg xmlns=\"http://www.w3.org/2000/svg\" height=\"24px\" viewBox=\"0 -960 960 960\">\n",
              "    <path d=\"M120-120v-720h720v720H120Zm60-500h600v-160H180v160Zm220 220h160v-160H400v160Zm0 220h160v-160H400v160ZM180-400h160v-160H180v160Zm440 0h160v-160H620v160ZM180-180h160v-160H180v160Zm440 0h160v-160H620v160Z\"/>\n",
              "  </svg>\n",
              "    </button>\n",
              "\n",
              "  <style>\n",
              "    .colab-df-container {\n",
              "      display:flex;\n",
              "      gap: 12px;\n",
              "    }\n",
              "\n",
              "    .colab-df-convert {\n",
              "      background-color: #E8F0FE;\n",
              "      border: none;\n",
              "      border-radius: 50%;\n",
              "      cursor: pointer;\n",
              "      display: none;\n",
              "      fill: #1967D2;\n",
              "      height: 32px;\n",
              "      padding: 0 0 0 0;\n",
              "      width: 32px;\n",
              "    }\n",
              "\n",
              "    .colab-df-convert:hover {\n",
              "      background-color: #E2EBFA;\n",
              "      box-shadow: 0px 1px 2px rgba(60, 64, 67, 0.3), 0px 1px 3px 1px rgba(60, 64, 67, 0.15);\n",
              "      fill: #174EA6;\n",
              "    }\n",
              "\n",
              "    .colab-df-buttons div {\n",
              "      margin-bottom: 4px;\n",
              "    }\n",
              "\n",
              "    [theme=dark] .colab-df-convert {\n",
              "      background-color: #3B4455;\n",
              "      fill: #D2E3FC;\n",
              "    }\n",
              "\n",
              "    [theme=dark] .colab-df-convert:hover {\n",
              "      background-color: #434B5C;\n",
              "      box-shadow: 0px 1px 3px 1px rgba(0, 0, 0, 0.15);\n",
              "      filter: drop-shadow(0px 1px 2px rgba(0, 0, 0, 0.3));\n",
              "      fill: #FFFFFF;\n",
              "    }\n",
              "  </style>\n",
              "\n",
              "    <script>\n",
              "      const buttonEl =\n",
              "        document.querySelector('#df-d4eedfbf-6909-4fb0-b775-156dc7f61412 button.colab-df-convert');\n",
              "      buttonEl.style.display =\n",
              "        google.colab.kernel.accessAllowed ? 'block' : 'none';\n",
              "\n",
              "      async function convertToInteractive(key) {\n",
              "        const element = document.querySelector('#df-d4eedfbf-6909-4fb0-b775-156dc7f61412');\n",
              "        const dataTable =\n",
              "          await google.colab.kernel.invokeFunction('convertToInteractive',\n",
              "                                                    [key], {});\n",
              "        if (!dataTable) return;\n",
              "\n",
              "        const docLinkHtml = 'Like what you see? Visit the ' +\n",
              "          '<a target=\"_blank\" href=https://colab.research.google.com/notebooks/data_table.ipynb>data table notebook</a>'\n",
              "          + ' to learn more about interactive tables.';\n",
              "        element.innerHTML = '';\n",
              "        dataTable['output_type'] = 'display_data';\n",
              "        await google.colab.output.renderOutput(dataTable, element);\n",
              "        const docLink = document.createElement('div');\n",
              "        docLink.innerHTML = docLinkHtml;\n",
              "        element.appendChild(docLink);\n",
              "      }\n",
              "    </script>\n",
              "  </div>\n",
              "\n",
              "\n",
              "    <div id=\"df-5aaa720e-557b-425b-b6b4-2381f6d5fe0c\">\n",
              "      <button class=\"colab-df-quickchart\" onclick=\"quickchart('df-5aaa720e-557b-425b-b6b4-2381f6d5fe0c')\"\n",
              "                title=\"Suggest charts\"\n",
              "                style=\"display:none;\">\n",
              "\n",
              "<svg xmlns=\"http://www.w3.org/2000/svg\" height=\"24px\"viewBox=\"0 0 24 24\"\n",
              "     width=\"24px\">\n",
              "    <g>\n",
              "        <path d=\"M19 3H5c-1.1 0-2 .9-2 2v14c0 1.1.9 2 2 2h14c1.1 0 2-.9 2-2V5c0-1.1-.9-2-2-2zM9 17H7v-7h2v7zm4 0h-2V7h2v10zm4 0h-2v-4h2v4z\"/>\n",
              "    </g>\n",
              "</svg>\n",
              "      </button>\n",
              "\n",
              "<style>\n",
              "  .colab-df-quickchart {\n",
              "      --bg-color: #E8F0FE;\n",
              "      --fill-color: #1967D2;\n",
              "      --hover-bg-color: #E2EBFA;\n",
              "      --hover-fill-color: #174EA6;\n",
              "      --disabled-fill-color: #AAA;\n",
              "      --disabled-bg-color: #DDD;\n",
              "  }\n",
              "\n",
              "  [theme=dark] .colab-df-quickchart {\n",
              "      --bg-color: #3B4455;\n",
              "      --fill-color: #D2E3FC;\n",
              "      --hover-bg-color: #434B5C;\n",
              "      --hover-fill-color: #FFFFFF;\n",
              "      --disabled-bg-color: #3B4455;\n",
              "      --disabled-fill-color: #666;\n",
              "  }\n",
              "\n",
              "  .colab-df-quickchart {\n",
              "    background-color: var(--bg-color);\n",
              "    border: none;\n",
              "    border-radius: 50%;\n",
              "    cursor: pointer;\n",
              "    display: none;\n",
              "    fill: var(--fill-color);\n",
              "    height: 32px;\n",
              "    padding: 0;\n",
              "    width: 32px;\n",
              "  }\n",
              "\n",
              "  .colab-df-quickchart:hover {\n",
              "    background-color: var(--hover-bg-color);\n",
              "    box-shadow: 0 1px 2px rgba(60, 64, 67, 0.3), 0 1px 3px 1px rgba(60, 64, 67, 0.15);\n",
              "    fill: var(--button-hover-fill-color);\n",
              "  }\n",
              "\n",
              "  .colab-df-quickchart-complete:disabled,\n",
              "  .colab-df-quickchart-complete:disabled:hover {\n",
              "    background-color: var(--disabled-bg-color);\n",
              "    fill: var(--disabled-fill-color);\n",
              "    box-shadow: none;\n",
              "  }\n",
              "\n",
              "  .colab-df-spinner {\n",
              "    border: 2px solid var(--fill-color);\n",
              "    border-color: transparent;\n",
              "    border-bottom-color: var(--fill-color);\n",
              "    animation:\n",
              "      spin 1s steps(1) infinite;\n",
              "  }\n",
              "\n",
              "  @keyframes spin {\n",
              "    0% {\n",
              "      border-color: transparent;\n",
              "      border-bottom-color: var(--fill-color);\n",
              "      border-left-color: var(--fill-color);\n",
              "    }\n",
              "    20% {\n",
              "      border-color: transparent;\n",
              "      border-left-color: var(--fill-color);\n",
              "      border-top-color: var(--fill-color);\n",
              "    }\n",
              "    30% {\n",
              "      border-color: transparent;\n",
              "      border-left-color: var(--fill-color);\n",
              "      border-top-color: var(--fill-color);\n",
              "      border-right-color: var(--fill-color);\n",
              "    }\n",
              "    40% {\n",
              "      border-color: transparent;\n",
              "      border-right-color: var(--fill-color);\n",
              "      border-top-color: var(--fill-color);\n",
              "    }\n",
              "    60% {\n",
              "      border-color: transparent;\n",
              "      border-right-color: var(--fill-color);\n",
              "    }\n",
              "    80% {\n",
              "      border-color: transparent;\n",
              "      border-right-color: var(--fill-color);\n",
              "      border-bottom-color: var(--fill-color);\n",
              "    }\n",
              "    90% {\n",
              "      border-color: transparent;\n",
              "      border-bottom-color: var(--fill-color);\n",
              "    }\n",
              "  }\n",
              "</style>\n",
              "\n",
              "      <script>\n",
              "        async function quickchart(key) {\n",
              "          const quickchartButtonEl =\n",
              "            document.querySelector('#' + key + ' button');\n",
              "          quickchartButtonEl.disabled = true;  // To prevent multiple clicks.\n",
              "          quickchartButtonEl.classList.add('colab-df-spinner');\n",
              "          try {\n",
              "            const charts = await google.colab.kernel.invokeFunction(\n",
              "                'suggestCharts', [key], {});\n",
              "          } catch (error) {\n",
              "            console.error('Error during call to suggestCharts:', error);\n",
              "          }\n",
              "          quickchartButtonEl.classList.remove('colab-df-spinner');\n",
              "          quickchartButtonEl.classList.add('colab-df-quickchart-complete');\n",
              "        }\n",
              "        (() => {\n",
              "          let quickchartButtonEl =\n",
              "            document.querySelector('#df-5aaa720e-557b-425b-b6b4-2381f6d5fe0c button');\n",
              "          quickchartButtonEl.style.display =\n",
              "            google.colab.kernel.accessAllowed ? 'block' : 'none';\n",
              "        })();\n",
              "      </script>\n",
              "    </div>\n",
              "\n",
              "    </div>\n",
              "  </div>\n"
            ],
            "application/vnd.google.colaboratory.intrinsic+json": {
              "type": "dataframe",
              "variable_name": "df",
              "repr_error": "0"
            }
          },
          "metadata": {},
          "execution_count": 178
        }
      ]
    },
    {
      "cell_type": "code",
      "source": [
        "# Seleccionar variables\n",
        "variable_x = \"AverageDailyWind\"\n",
        "variable_y = \"Precipitation\""
      ],
      "metadata": {
        "id": "K-0pXiwKiXHl"
      },
      "execution_count": null,
      "outputs": []
    },
    {
      "cell_type": "code",
      "source": [
        "# Generar análisis\n",
        "modelo = LinearRegression() #Creamos el modelo de regresión\n",
        "\n",
        "# Limpiamos la base para eliminar las columnas en donde no haya valores (NaN)\n",
        "df_cleaned = df.dropna(subset=[variable_x, variable_y])\n",
        "\n",
        "modelo.fit(df_cleaned[[variable_x]], df_cleaned[variable_y]) #Entrenamos el modelo\n",
        "print ('Ecuación de la recta: y = ', round(modelo.coef_[0],3),'x + ', round(modelo.intercept_,3))#Obtenemos la ecuación de la recta\n",
        "print ('Coeficiente de correlación: ', round(np.corrcoef(df_cleaned[variable_x], df_cleaned[variable_y])[0,1], 3))#Obtenemos el coeficiente de correlación\n",
        "print ('Coeficiente de determinación: ', round(r2_score(df_cleaned[variable_y], modelo.predict(df_cleaned[[variable_x]])), 3))#obtenemos el coeficiente de determinación\n",
        "# Gráfica con intervalo de confianza\n",
        "plt.figure(figsize=(6, 4)) #Tamaño de la gráfica\n",
        "sns.regplot(x=df_cleaned[variable_x], y=df_cleaned[variable_y], ci=95, line_kws={\"color\": \"red\"}, scatter_kws={\"color\": \"black\"})\n",
        "plt.title('Regresión lineal simple con intervalo de confianza al 95%')\n",
        "plt.show()"
      ],
      "metadata": {
        "colab": {
          "base_uri": "https://localhost:8080/",
          "height": 463
        },
        "id": "0G6cPNfXjh9C",
        "outputId": "774b3927-01b1-4c8e-9b0f-d85bb57c83e0"
      },
      "execution_count": null,
      "outputs": [
        {
          "output_type": "stream",
          "name": "stdout",
          "text": [
            "Ecuación de la recta: y =  0.21 x +  -0.14\n",
            "Coeficiente de correlación:  0.581\n",
            "Coeficiente de determinación:  0.338\n"
          ]
        },
        {
          "output_type": "display_data",
          "data": {
            "text/plain": [
              "<Figure size 600x400 with 1 Axes>"
            ],
            "image/png": "[encoded data removed]"
          },
          "metadata": {}
        }
      ]
    },
    {
      "cell_type": "markdown",
      "source": [
        " El modelo lineal no se ajusta bien a nuestros datos, lo cual pudimos com\n",
        "probar al hacer el análisis de sus residuales."
      ],
      "metadata": {
        "id": "Whj5QSvNkgSU"
      }
    },
    {
      "cell_type": "code",
      "source": [
        "# Predicciones del modelo que limpiamos anteriormente\n",
        "df_cleaned['y_pred'] = modelo.predict(df_cleaned[[variable_x]])\n",
        "\n",
        "# Cálculo de los residuales\n",
        "df_cleaned['residual'] = df_cleaned[variable_y] - df_cleaned['y_pred']"
      ],
      "metadata": {
        "id": "UYRbe9Tck6Wc"
      },
      "execution_count": null,
      "outputs": []
    },
    {
      "cell_type": "code",
      "source": [
        "plt.figure(figsize=(6, 4)) #Tamaño de la gráfica\n",
        "sns.scatterplot(x=df_cleaned['y_pred'], y=df_cleaned['residual'], color='blue') #Grafica de tipo scatterplot\n",
        "plt.axhline(0, color='red', linestyle='--') #Se deberia ver \"uniforme\" con referente al eje x\n",
        "#Codigo de etiquetas\n",
        "plt.xlabel('Valores predichos')\n",
        "plt.ylabel('Residuales')\n",
        "plt.title('Residuales vs Valores predichos')\n",
        "plt.show()"
      ],
      "metadata": {
        "colab": {
          "base_uri": "https://localhost:8080/",
          "height": 410
        },
        "id": "PcD3te4VlN5V",
        "outputId": "447a633d-76fe-4c3f-dcd9-25267743b71e"
      },
      "execution_count": null,
      "outputs": [
        {
          "output_type": "display_data",
          "data": {
            "text/plain": [
              "<Figure size 600x400 with 1 Axes>"
            ],
            "image/png": "[encoded data removed]"
          },
          "metadata": {}
        }
      ]
    },
    {
      "cell_type": "markdown",
      "source": [
        "Al graficar\n",
        " los valores estimados con los reales obtuvimos el gráfico mostrado , el cual\n",
        " claramente no presenta un comportamiento uniforme."
      ],
      "metadata": {
        "id": "crqxAKgkmnZf"
      }
    },
    {
      "cell_type": "code",
      "source": [
        "plt.figure(figsize=(5, 3)) #Tamañp\n",
        "sns.histplot(df_cleaned['residual'], kde=True, color='lavender') #Histograma\n",
        "plt.title('Distribución de los residuales') #Titulo y etiquetas\n",
        "plt.xlabel('Residual')\n",
        "plt.ylabel('Frecuencia')\n",
        "plt.show()"
      ],
      "metadata": {
        "colab": {
          "base_uri": "https://localhost:8080/",
          "height": 333
        },
        "id": "X8IS0InlmuuU",
        "outputId": "3bb9b9be-529d-4db8-f057-cd5c7224ac23"
      },
      "execution_count": null,
      "outputs": [
        {
          "output_type": "display_data",
          "data": {
            "text/plain": [
              "<Figure size 500x300 with 1 Axes>"
            ],
            "image/png": "[encoded data removed]"
          },
          "metadata": {}
        }
      ]
    },
    {
      "cell_type": "code",
      "source": [
        "#QQplot, usamos una librería que no se encontraba en scikitlearn\n",
        "sm.qqplot(df_cleaned['residual'], line='45')\n",
        "plt.xlabel('Valores teóricos')\n",
        "plt.ylabel('Valores experimentales')\n",
        "plt.title('Gráfico Q-Q de los residuales')\n",
        "plt.show()"
      ],
      "metadata": {
        "colab": {
          "base_uri": "https://localhost:8080/",
          "height": 472
        },
        "id": "VTtHZFKtnfJx",
        "outputId": "d0b4c954-d3d5-4ca5-b906-dd251fc2a481"
      },
      "execution_count": null,
      "outputs": [
        {
          "output_type": "display_data",
          "data": {
            "text/plain": [
              "<Figure size 640x480 with 1 Axes>"
            ],
            "image/png": "[encoded data removed]"
          },
          "metadata": {}
        }
      ]
    },
    {
      "cell_type": "markdown",
      "source": [
        "Estas tres gráficas nos dan a entender que no tenemos un buen ajuste del modelo, sin embargo, para tener certeza de los resultados, tenemos que aplicar las pruebas no paramétricas para los resiudales:"
      ],
      "metadata": {
        "id": "HBJc3ylGpvQH"
      }
    },
    {
      "cell_type": "code",
      "source": [
        "#Prueba no paramétrica de Shapiro.Wilk\n",
        "stat, p = shapiro(df_cleaned['residual'])\n",
        "\n",
        "#Prueba no paramétrica de Kolmogorov Smirnov\n",
        "resid_std = (df_cleaned['residual'] - df_cleaned['residual'].mean()) / df_cleaned['residual'].std()\n",
        "\n",
        "stat, p = kstest(resid_std, 'norm')\n",
        "print(f\"Kolmogorov-Smirnov: estadístico={stat:.4f}, p-valor={p:.4f}\")\n",
        "print(f\"Shapiro-Wilk: estadístico={stat:.4f}, p-valor={p:.4f}\")"
      ],
      "metadata": {
        "colab": {
          "base_uri": "https://localhost:8080/"
        },
        "id": "QgoadbBLp6ah",
        "outputId": "f4065f84-68dd-4354-800f-a7f646d09fe6"
      },
      "execution_count": null,
      "outputs": [
        {
          "output_type": "stream",
          "name": "stdout",
          "text": [
            "Kolmogorov-Smirnov: estadístico=0.1400, p-valor=0.0026\n",
            "Shapiro-Wilk: estadístico=0.1400, p-valor=0.0026\n"
          ]
        }
      ]
    },
    {
      "cell_type": "code",
      "source": [
        "# estoy probando si los errores del modelo tienen varianza constante (homocedasticidad)\n",
        "# usando la prueba de Breusch-Pagan\n",
        "\n",
        "# meto una constante al modelo para que tenga el intercepto\n",
        "X = sm.add_constant(df_cleaned[variable_x])\n",
        "\n",
        "# hago el modelo de regresión lineal\n",
        "modelo = sm.OLS(df_cleaned[variable_y], X).fit()\n",
        "\n",
        "# saco los residuales del modelo (los errores)\n",
        "residuos = modelo.resid\n",
        "\n",
        "# aplico la prueba de Breusch-Pagan\n",
        "prueba_bp = het_breuschpagan(residuos, X)\n",
        "#Imprimo\n",
        "nombres = ['LM stat', 'p-value', 'F stat', 'F p-value']\n",
        "for nombre, valor in zip(nombres, prueba_bp):\n",
        "    print(nombre, \":\", round(valor, 4))\n"
      ],
      "metadata": {
        "colab": {
          "base_uri": "https://localhost:8080/"
        },
        "id": "fQoHV2p0q3Bh",
        "outputId": "a0ed3bef-5345-441f-e822-486ad77b1c9c"
      },
      "execution_count": null,
      "outputs": [
        {
          "output_type": "stream",
          "name": "stdout",
          "text": [
            "LM stat : 18.2279\n",
            "p-value : 0.0\n",
            "F stat : 20.2161\n",
            "F p-value : 0.0\n"
          ]
        }
      ]
    },
    {
      "cell_type": "markdown",
      "source": [
        "Dado que no se cumplen los supuestos de la regresión para los residuales,\n",
        " podemos concluir que el modelo no es bueno para nuestros datos.  A continuación\n",
        " ajustaremos un modelo de regresión lineal múltiple para compararlo con este."
      ],
      "metadata": {
        "id": "04Ce3ItyrvBP"
      }
    },
    {
      "cell_type": "markdown",
      "source": [
        "Dado que hay algunas variables que están relacionadas entre sí, como la\n",
        " temperatura mínima y máxima, verificaremos los datos en caso de que haya\n",
        " problemas de multicolinealidad. Para eso, graficamos de tipo \"ggpair\" por pares en las variables\n",
        " variables no categ´oricas de nuestro conjunto de datos, cuyo output puede verse\n",
        " en la figura:"
      ],
      "metadata": {
        "id": "MqsigAYguXMs"
      }
    },
    {
      "cell_type": "code",
      "source": [
        "#quitamos variables categoricas\n",
        "variables_numericas = df.select_dtypes(include='number').drop(columns=['Precipitation', 'Unnamed: 0', 'PeakGustTime'])\n",
        "\n",
        "# Calcular la matriz de covarianza\n",
        "matriz_correlacion = variables_numericas.corr()\n",
        "\n",
        "print(matriz_correlacion)"
      ],
      "metadata": {
        "colab": {
          "base_uri": "https://localhost:8080/"
        },
        "id": "yImFiHp5w2lj",
        "outputId": "18e952bd-ae98-434a-e12a-5a915f00f7f9"
      },
      "execution_count": null,
      "outputs": [
        {
          "output_type": "stream",
          "name": "stdout",
          "text": [
            "                          AverageDailyWind  AverageTemp   MaxTemp   MinTemp  \\\n",
            "AverageDailyWind                  1.000000    -0.382853 -0.413272 -0.320338   \n",
            "AverageTemp                      -0.382853     1.000000  0.897369  0.874860   \n",
            "MaxTemp                          -0.413272     0.897369  1.000000  0.721359   \n",
            "MinTemp                          -0.320338     0.874860  0.721359  1.000000   \n",
            "Fastest5MinWindDirection         -0.343463     0.216116  0.271137  0.174766   \n",
            "Fastest2MinWindDirection         -0.281347     0.139462  0.201704  0.078106   \n",
            "Fastest2MinWindSpeed              0.730856    -0.295636 -0.244248 -0.297684   \n",
            "Fastest5MinWindSpeed              0.681159    -0.299953 -0.226098 -0.323290   \n",
            "WeatherType01                          NaN          NaN       NaN       NaN   \n",
            "WeatherType02                          NaN          NaN       NaN       NaN   \n",
            "WeatherType08                          NaN          NaN       NaN       NaN   \n",
            "\n",
            "                          Fastest5MinWindDirection  Fastest2MinWindDirection  \\\n",
            "AverageDailyWind                         -0.343463                 -0.281347   \n",
            "AverageTemp                               0.216116                  0.139462   \n",
            "MaxTemp                                   0.271137                  0.201704   \n",
            "MinTemp                                   0.174766                  0.078106   \n",
            "Fastest5MinWindDirection                  1.000000                  0.741155   \n",
            "Fastest2MinWindDirection                  0.741155                  1.000000   \n",
            "Fastest2MinWindSpeed                     -0.167074                 -0.115094   \n",
            "Fastest5MinWindSpeed                      0.006142                  0.020834   \n",
            "WeatherType01                                  NaN                       NaN   \n",
            "WeatherType02                                  NaN                       NaN   \n",
            "WeatherType08                                  NaN                       NaN   \n",
            "\n",
            "                          Fastest2MinWindSpeed  Fastest5MinWindSpeed  \\\n",
            "AverageDailyWind                      0.730856              0.681159   \n",
            "AverageTemp                          -0.295636             -0.299953   \n",
            "MaxTemp                              -0.244248             -0.226098   \n",
            "MinTemp                              -0.297684             -0.323290   \n",
            "Fastest5MinWindDirection             -0.167074              0.006142   \n",
            "Fastest2MinWindDirection             -0.115094              0.020834   \n",
            "Fastest2MinWindSpeed                  1.000000              0.922032   \n",
            "Fastest5MinWindSpeed                  0.922032              1.000000   \n",
            "WeatherType01                              NaN                   NaN   \n",
            "WeatherType02                              NaN                   NaN   \n",
            "WeatherType08                              NaN                   NaN   \n",
            "\n",
            "                          WeatherType01  WeatherType02  WeatherType08  \n",
            "AverageDailyWind                    NaN            NaN            NaN  \n",
            "AverageTemp                         NaN            NaN            NaN  \n",
            "MaxTemp                             NaN            NaN            NaN  \n",
            "MinTemp                             NaN            NaN            NaN  \n",
            "Fastest5MinWindDirection            NaN            NaN            NaN  \n",
            "Fastest2MinWindDirection            NaN            NaN            NaN  \n",
            "Fastest2MinWindSpeed                NaN            NaN            NaN  \n",
            "Fastest5MinWindSpeed                NaN            NaN            NaN  \n",
            "WeatherType01                       NaN            NaN            NaN  \n",
            "WeatherType02                       NaN            NaN            NaN  \n",
            "WeatherType08                       NaN            NaN            NaN  \n"
          ]
        }
      ]
    },
    {
      "cell_type": "markdown",
      "source": [
        "Al descartar las variables que están relacionadas, nos quedaremos de manera númerica con AverageDailyWind, AverageTemp, Fastest2MinDireccion, Fastest5MinDireccion y Fastest5MinSpeed"
      ],
      "metadata": {
        "id": "yGRB8dReuRLs"
      }
    },
    {
      "cell_type": "code",
      "source": [
        "X= variables_numericas[['AverageDailyWind', 'AverageTemp', 'Fastest2MinWindDirection', 'Fastest5MinWindDirection', 'Fastest5MinWindSpeed']]\n",
        "# Eliminamos columnas sin información\n",
        "X = X.dropna()\n",
        "X = sm.add_constant(X)\n",
        "vif_data = pd.DataFrame() #creamos un dataframe que guarda el vif\n",
        "vif_data['Variable'] = X.columns\n",
        "vif_data['VIF'] = [variance_inflation_factor(X.values, i) for i in range(X.shape[1])] #Calcula el vif data\n",
        "\n",
        "print(vif_data)"
      ],
      "metadata": {
        "colab": {
          "base_uri": "https://localhost:8080/"
        },
        "id": "XdCUmUvN_mlq",
        "outputId": "8a97e808-06ae-452d-f0b6-bbbb65bbccac"
      },
      "execution_count": null,
      "outputs": [
        {
          "output_type": "stream",
          "name": "stdout",
          "text": [
            "                   Variable         VIF\n",
            "0                     const  228.014268\n",
            "1          AverageDailyWind    2.483809\n",
            "2               AverageTemp    1.193064\n",
            "3  Fastest2MinWindDirection    2.244257\n",
            "4  Fastest5MinWindDirection    2.430680\n",
            "5      Fastest5MinWindSpeed    2.150040\n"
          ]
        }
      ]
    },
    {
      "cell_type": "markdown",
      "source": [
        "El problema del VIF se soluciona entonces, las variables a considerar son 'AverageDailyWind', 'AverageTemp','Fastest5MinWindDirection' y 'Fastest5MinWindSpeed'"
      ],
      "metadata": {
        "id": "0tjvjapVA_V5"
      }
    },
    {
      "cell_type": "markdown",
      "source": [
        "Realizamos entonces, el juste del modelo, incluyendo las variables categóricas"
      ],
      "metadata": {
        "id": "fn_Rff0-CvQk"
      }
    },
    {
      "cell_type": "code",
      "source": [
        "#Para evitar que se eliminen las filas que contienen valores númericos como NA,\n",
        "#Cambiaremos esos datos por 0:\n",
        "#quitamos variables sin impoetancia en el modelo\n",
        "variables_numericas = df.select_dtypes(include='number').drop(columns=['Unnamed: 0', 'PeakGustTime', 'MaxTemp', 'MinTemp','Fastest2MinWindSpeed', 'Fastest2MinWindDirection'])\n",
        "\n",
        "col1 = ['WeatherType01', 'WeatherType02', 'WeatherType08']\n",
        "variables_numericas[col1] = variables_numericas[col1].fillna(0).astype(int)\n",
        "variables_numericas.head(2)"
      ],
      "metadata": {
        "colab": {
          "base_uri": "https://localhost:8080/",
          "height": 112
        },
        "id": "meiXr3QWIW_w",
        "outputId": "94458f5b-b371-4e68-fc62-d0a44ae683d1"
      },
      "execution_count": null,
      "outputs": [
        {
          "output_type": "execute_result",
          "data": {
            "text/plain": [
              "   AverageDailyWind  Precipitation  AverageTemp  Fastest5MinWindDirection  \\\n",
              "3              1.34           0.01    60.941633                     270.0   \n",
              "4              2.46           1.61    56.158671                     140.0   \n",
              "\n",
              "   Fastest5MinWindSpeed  WeatherType01  WeatherType02  WeatherType08  \n",
              "3                  14.1              0              0              0  \n",
              "4                  16.1              1              1              0  "
            ],
            "text/html": [
              "\n",
              "  <div id=\"df-39b956d8-e60c-4688-9cf3-b6979dfc7b49\" class=\"colab-df-container\">\n",
              "    <div>\n",
              "<style scoped>\n",
              "    .dataframe tbody tr th:only-of-type {\n",
              "        vertical-align: middle;\n",
              "    }\n",
              "\n",
              "    .dataframe tbody tr th {\n",
              "        vertical-align: top;\n",
              "    }\n",
              "\n",
              "    .dataframe thead th {\n",
              "        text-align: right;\n",
              "    }\n",
              "</style>\n",
              "<table border=\"1\" class=\"dataframe\">\n",
              "  <thead>\n",
              "    <tr style=\"text-align: right;\">\n",
              "      <th></th>\n",
              "      <th>AverageDailyWind</th>\n",
              "      <th>Precipitation</th>\n",
              "      <th>AverageTemp</th>\n",
              "      <th>Fastest5MinWindDirection</th>\n",
              "      <th>Fastest5MinWindSpeed</th>\n",
              "      <th>WeatherType01</th>\n",
              "      <th>WeatherType02</th>\n",
              "      <th>WeatherType08</th>\n",
              "    </tr>\n",
              "  </thead>\n",
              "  <tbody>\n",
              "    <tr>\n",
              "      <th>3</th>\n",
              "      <td>1.34</td>\n",
              "      <td>0.01</td>\n",
              "      <td>60.941633</td>\n",
              "      <td>270.0</td>\n",
              "      <td>14.1</td>\n",
              "      <td>0</td>\n",
              "      <td>0</td>\n",
              "      <td>0</td>\n",
              "    </tr>\n",
              "    <tr>\n",
              "      <th>4</th>\n",
              "      <td>2.46</td>\n",
              "      <td>1.61</td>\n",
              "      <td>56.158671</td>\n",
              "      <td>140.0</td>\n",
              "      <td>16.1</td>\n",
              "      <td>1</td>\n",
              "      <td>1</td>\n",
              "      <td>0</td>\n",
              "    </tr>\n",
              "  </tbody>\n",
              "</table>\n",
              "</div>\n",
              "    <div class=\"colab-df-buttons\">\n",
              "\n",
              "  <div class=\"colab-df-container\">\n",
              "    <button class=\"colab-df-convert\" onclick=\"convertToInteractive('df-39b956d8-e60c-4688-9cf3-b6979dfc7b49')\"\n",
              "            title=\"Convert this dataframe to an interactive table.\"\n",
              "            style=\"display:none;\">\n",
              "\n",
              "  <svg xmlns=\"http://www.w3.org/2000/svg\" height=\"24px\" viewBox=\"0 -960 960 960\">\n",
              "    <path d=\"M120-120v-720h720v720H120Zm60-500h600v-160H180v160Zm220 220h160v-160H400v160Zm0 220h160v-160H400v160ZM180-400h160v-160H180v160Zm440 0h160v-160H620v160ZM180-180h160v-160H180v160Zm440 0h160v-160H620v160Z\"/>\n",
              "  </svg>\n",
              "    </button>\n",
              "\n",
              "  <style>\n",
              "    .colab-df-container {\n",
              "      display:flex;\n",
              "      gap: 12px;\n",
              "    }\n",
              "\n",
              "    .colab-df-convert {\n",
              "      background-color: #E8F0FE;\n",
              "      border: none;\n",
              "      border-radius: 50%;\n",
              "      cursor: pointer;\n",
              "      display: none;\n",
              "      fill: #1967D2;\n",
              "      height: 32px;\n",
              "      padding: 0 0 0 0;\n",
              "      width: 32px;\n",
              "    }\n",
              "\n",
              "    .colab-df-convert:hover {\n",
              "      background-color: #E2EBFA;\n",
              "      box-shadow: 0px 1px 2px rgba(60, 64, 67, 0.3), 0px 1px 3px 1px rgba(60, 64, 67, 0.15);\n",
              "      fill: #174EA6;\n",
              "    }\n",
              "\n",
              "    .colab-df-buttons div {\n",
              "      margin-bottom: 4px;\n",
              "    }\n",
              "\n",
              "    [theme=dark] .colab-df-convert {\n",
              "      background-color: #3B4455;\n",
              "      fill: #D2E3FC;\n",
              "    }\n",
              "\n",
              "    [theme=dark] .colab-df-convert:hover {\n",
              "      background-color: #434B5C;\n",
              "      box-shadow: 0px 1px 3px 1px rgba(0, 0, 0, 0.15);\n",
              "      filter: drop-shadow(0px 1px 2px rgba(0, 0, 0, 0.3));\n",
              "      fill: #FFFFFF;\n",
              "    }\n",
              "  </style>\n",
              "\n",
              "    <script>\n",
              "      const buttonEl =\n",
              "        document.querySelector('#df-39b956d8-e60c-4688-9cf3-b6979dfc7b49 button.colab-df-convert');\n",
              "      buttonEl.style.display =\n",
              "        google.colab.kernel.accessAllowed ? 'block' : 'none';\n",
              "\n",
              "      async function convertToInteractive(key) {\n",
              "        const element = document.querySelector('#df-39b956d8-e60c-4688-9cf3-b6979dfc7b49');\n",
              "        const dataTable =\n",
              "          await google.colab.kernel.invokeFunction('convertToInteractive',\n",
              "                                                    [key], {});\n",
              "        if (!dataTable) return;\n",
              "\n",
              "        const docLinkHtml = 'Like what you see? Visit the ' +\n",
              "          '<a target=\"_blank\" href=https://colab.research.google.com/notebooks/data_table.ipynb>data table notebook</a>'\n",
              "          + ' to learn more about interactive tables.';\n",
              "        element.innerHTML = '';\n",
              "        dataTable['output_type'] = 'display_data';\n",
              "        await google.colab.output.renderOutput(dataTable, element);\n",
              "        const docLink = document.createElement('div');\n",
              "        docLink.innerHTML = docLinkHtml;\n",
              "        element.appendChild(docLink);\n",
              "      }\n",
              "    </script>\n",
              "  </div>\n",
              "\n",
              "\n",
              "    <div id=\"df-a00c562e-df9e-4ac4-95fc-285b40e42f23\">\n",
              "      <button class=\"colab-df-quickchart\" onclick=\"quickchart('df-a00c562e-df9e-4ac4-95fc-285b40e42f23')\"\n",
              "                title=\"Suggest charts\"\n",
              "                style=\"display:none;\">\n",
              "\n",
              "<svg xmlns=\"http://www.w3.org/2000/svg\" height=\"24px\"viewBox=\"0 0 24 24\"\n",
              "     width=\"24px\">\n",
              "    <g>\n",
              "        <path d=\"M19 3H5c-1.1 0-2 .9-2 2v14c0 1.1.9 2 2 2h14c1.1 0 2-.9 2-2V5c0-1.1-.9-2-2-2zM9 17H7v-7h2v7zm4 0h-2V7h2v10zm4 0h-2v-4h2v4z\"/>\n",
              "    </g>\n",
              "</svg>\n",
              "      </button>\n",
              "\n",
              "<style>\n",
              "  .colab-df-quickchart {\n",
              "      --bg-color: #E8F0FE;\n",
              "      --fill-color: #1967D2;\n",
              "      --hover-bg-color: #E2EBFA;\n",
              "      --hover-fill-color: #174EA6;\n",
              "      --disabled-fill-color: #AAA;\n",
              "      --disabled-bg-color: #DDD;\n",
              "  }\n",
              "\n",
              "  [theme=dark] .colab-df-quickchart {\n",
              "      --bg-color: #3B4455;\n",
              "      --fill-color: #D2E3FC;\n",
              "      --hover-bg-color: #434B5C;\n",
              "      --hover-fill-color: #FFFFFF;\n",
              "      --disabled-bg-color: #3B4455;\n",
              "      --disabled-fill-color: #666;\n",
              "  }\n",
              "\n",
              "  .colab-df-quickchart {\n",
              "    background-color: var(--bg-color);\n",
              "    border: none;\n",
              "    border-radius: 50%;\n",
              "    cursor: pointer;\n",
              "    display: none;\n",
              "    fill: var(--fill-color);\n",
              "    height: 32px;\n",
              "    padding: 0;\n",
              "    width: 32px;\n",
              "  }\n",
              "\n",
              "  .colab-df-quickchart:hover {\n",
              "    background-color: var(--hover-bg-color);\n",
              "    box-shadow: 0 1px 2px rgba(60, 64, 67, 0.3), 0 1px 3px 1px rgba(60, 64, 67, 0.15);\n",
              "    fill: var(--button-hover-fill-color);\n",
              "  }\n",
              "\n",
              "  .colab-df-quickchart-complete:disabled,\n",
              "  .colab-df-quickchart-complete:disabled:hover {\n",
              "    background-color: var(--disabled-bg-color);\n",
              "    fill: var(--disabled-fill-color);\n",
              "    box-shadow: none;\n",
              "  }\n",
              "\n",
              "  .colab-df-spinner {\n",
              "    border: 2px solid var(--fill-color);\n",
              "    border-color: transparent;\n",
              "    border-bottom-color: var(--fill-color);\n",
              "    animation:\n",
              "      spin 1s steps(1) infinite;\n",
              "  }\n",
              "\n",
              "  @keyframes spin {\n",
              "    0% {\n",
              "      border-color: transparent;\n",
              "      border-bottom-color: var(--fill-color);\n",
              "      border-left-color: var(--fill-color);\n",
              "    }\n",
              "    20% {\n",
              "      border-color: transparent;\n",
              "      border-left-color: var(--fill-color);\n",
              "      border-top-color: var(--fill-color);\n",
              "    }\n",
              "    30% {\n",
              "      border-color: transparent;\n",
              "      border-left-color: var(--fill-color);\n",
              "      border-top-color: var(--fill-color);\n",
              "      border-right-color: var(--fill-color);\n",
              "    }\n",
              "    40% {\n",
              "      border-color: transparent;\n",
              "      border-right-color: var(--fill-color);\n",
              "      border-top-color: var(--fill-color);\n",
              "    }\n",
              "    60% {\n",
              "      border-color: transparent;\n",
              "      border-right-color: var(--fill-color);\n",
              "    }\n",
              "    80% {\n",
              "      border-color: transparent;\n",
              "      border-right-color: var(--fill-color);\n",
              "      border-bottom-color: var(--fill-color);\n",
              "    }\n",
              "    90% {\n",
              "      border-color: transparent;\n",
              "      border-bottom-color: var(--fill-color);\n",
              "    }\n",
              "  }\n",
              "</style>\n",
              "\n",
              "      <script>\n",
              "        async function quickchart(key) {\n",
              "          const quickchartButtonEl =\n",
              "            document.querySelector('#' + key + ' button');\n",
              "          quickchartButtonEl.disabled = true;  // To prevent multiple clicks.\n",
              "          quickchartButtonEl.classList.add('colab-df-spinner');\n",
              "          try {\n",
              "            const charts = await google.colab.kernel.invokeFunction(\n",
              "                'suggestCharts', [key], {});\n",
              "          } catch (error) {\n",
              "            console.error('Error during call to suggestCharts:', error);\n",
              "          }\n",
              "          quickchartButtonEl.classList.remove('colab-df-spinner');\n",
              "          quickchartButtonEl.classList.add('colab-df-quickchart-complete');\n",
              "        }\n",
              "        (() => {\n",
              "          let quickchartButtonEl =\n",
              "            document.querySelector('#df-a00c562e-df9e-4ac4-95fc-285b40e42f23 button');\n",
              "          quickchartButtonEl.style.display =\n",
              "            google.colab.kernel.accessAllowed ? 'block' : 'none';\n",
              "        })();\n",
              "      </script>\n",
              "    </div>\n",
              "\n",
              "    </div>\n",
              "  </div>\n"
            ],
            "application/vnd.google.colaboratory.intrinsic+json": {
              "type": "dataframe",
              "variable_name": "variables_numericas",
              "summary": "{\n  \"name\": \"variables_numericas\",\n  \"rows\": 167,\n  \"fields\": [\n    {\n      \"column\": \"AverageDailyWind\",\n      \"properties\": {\n        \"dtype\": \"number\",\n        \"std\": 1.4004358572048254,\n        \"min\": 0.22,\n        \"max\": 7.16,\n        \"num_unique_values\": 29,\n        \"samples\": [\n          6.49,\n          4.92,\n          0.45\n        ],\n        \"semantic_type\": \"\",\n        \"description\": \"\"\n      }\n    },\n    {\n      \"column\": \"Precipitation\",\n      \"properties\": {\n        \"dtype\": \"number\",\n        \"std\": 0.5068779872812911,\n        \"min\": 0.01,\n        \"max\": 2.67,\n        \"num_unique_values\": 76,\n        \"samples\": [\n          0.43,\n          0.88,\n          0.03\n        ],\n        \"semantic_type\": \"\",\n        \"description\": \"\"\n      }\n    },\n    {\n      \"column\": \"AverageTemp\",\n      \"properties\": {\n        \"dtype\": \"number\",\n        \"std\": 4.729716448896291,\n        \"min\": 48.351304316508,\n        \"max\": 78.6399493960567,\n        \"num_unique_values\": 167,\n        \"samples\": [\n          57.5485017898248,\n          54.3717478305016,\n          63.2798817399153\n        ],\n        \"semantic_type\": \"\",\n        \"description\": \"\"\n      }\n    },\n    {\n      \"column\": \"Fastest5MinWindDirection\",\n      \"properties\": {\n        \"dtype\": \"number\",\n        \"std\": 87.87275924089188,\n        \"min\": 10.0,\n        \"max\": 360.0,\n        \"num_unique_values\": 19,\n        \"samples\": [\n          270.0,\n          280.0,\n          160.0\n        ],\n        \"semantic_type\": \"\",\n        \"description\": \"\"\n      }\n    },\n    {\n      \"column\": \"Fastest5MinWindSpeed\",\n      \"properties\": {\n        \"dtype\": \"number\",\n        \"std\": 5.1241690689759745,\n        \"min\": 8.9,\n        \"max\": 34.0,\n        \"num_unique_values\": 24,\n        \"samples\": [\n          10.1,\n          19.9,\n          14.1\n        ],\n        \"semantic_type\": \"\",\n        \"description\": \"\"\n      }\n    },\n    {\n      \"column\": \"WeatherType01\",\n      \"properties\": {\n        \"dtype\": \"number\",\n        \"std\": 0,\n        \"min\": 0,\n        \"max\": 1,\n        \"num_unique_values\": 2,\n        \"samples\": [\n          1,\n          0\n        ],\n        \"semantic_type\": \"\",\n        \"description\": \"\"\n      }\n    },\n    {\n      \"column\": \"WeatherType02\",\n      \"properties\": {\n        \"dtype\": \"number\",\n        \"std\": 0,\n        \"min\": 0,\n        \"max\": 1,\n        \"num_unique_values\": 2,\n        \"samples\": [\n          1,\n          0\n        ],\n        \"semantic_type\": \"\",\n        \"description\": \"\"\n      }\n    },\n    {\n      \"column\": \"WeatherType08\",\n      \"properties\": {\n        \"dtype\": \"number\",\n        \"std\": 0,\n        \"min\": 0,\n        \"max\": 1,\n        \"num_unique_values\": 2,\n        \"samples\": [\n          1,\n          0\n        ],\n        \"semantic_type\": \"\",\n        \"description\": \"\"\n      }\n    }\n  ]\n}"
            }
          },
          "metadata": {},
          "execution_count": 215
        }
      ]
    },
    {
      "cell_type": "markdown",
      "source": [
        "Realizamos ahora sí, la regresión lineal múltiple"
      ],
      "metadata": {
        "id": "I7GY-URgP8Hl"
      }
    },
    {
      "cell_type": "code",
      "source": [
        "#Definimos las variables\n",
        "x = variables_numericas.drop(columns='Precipitation')\n",
        "y = variables_numericas['Precipitation']\n"
      ],
      "metadata": {
        "id": "b0PadvyTP7o7"
      },
      "execution_count": null,
      "outputs": []
    },
    {
      "cell_type": "code",
      "source": [
        "#Calculamos entonces el modelo de regresión\n",
        "modelo = LinearRegression()\n",
        "x_cleaned = x.dropna()\n",
        "y_cleaned = y.loc[x_cleaned.index]\n",
        "modelo.fit(x_cleaned, y_cleaned)\n",
        "# Coeficientes de las variables\n",
        "coeficientes = pd.DataFrame({\n",
        "    'Variable': x.columns,\n",
        "    'Coeficiente': modelo.coef_\n",
        "})\n",
        "\n",
        "# Intercepto\n",
        "intercepto = modelo.intercept_\n",
        "#Coeficientes\n",
        "print(\"Intercepto:\", intercepto)\n",
        "print(coeficientes)\n"
      ],
      "metadata": {
        "colab": {
          "base_uri": "https://localhost:8080/"
        },
        "id": "j25o2677QGw6",
        "outputId": "ec5c82c9-0e19-42fe-84a8-ac27b73fa6a4"
      },
      "execution_count": null,
      "outputs": [
        {
          "output_type": "stream",
          "name": "stdout",
          "text": [
            "Intercepto: 0.26707624869295865\n",
            "                   Variable  Coeficiente\n",
            "0          AverageDailyWind     0.149252\n",
            "1               AverageTemp    -0.006083\n",
            "2  Fastest5MinWindDirection    -0.001114\n",
            "3      Fastest5MinWindSpeed     0.008460\n",
            "4             WeatherType01     0.275997\n",
            "5             WeatherType02     0.357135\n",
            "6             WeatherType08    -0.133828\n"
          ]
        }
      ]
    },
    {
      "cell_type": "code",
      "source": [
        "#Calculamos ahora la eficacia del modelo\n",
        "y_pred = modelo.predict(x_cleaned)\n",
        "r2 = r2_score(y_cleaned, y_pred)\n",
        "print(\"R²:\", r2)"
      ],
      "metadata": {
        "colab": {
          "base_uri": "https://localhost:8080/"
        },
        "id": "y5amYlqLRlLy",
        "outputId": "6ff42c7f-14ec-448d-a7a9-5f9c91acaaa8"
      },
      "execution_count": null,
      "outputs": [
        {
          "output_type": "stream",
          "name": "stdout",
          "text": [
            "R²: 0.44212042618086733\n"
          ]
        }
      ]
    },
    {
      "cell_type": "markdown",
      "source": [
        "La $R^2$ nos indica que tenemos que el modelo nos daría una respuesta del 44% si es que se cumplen los supuestos, así que, verifiquemos:"
      ],
      "metadata": {
        "id": "hC0uXC_8T0zx"
      }
    },
    {
      "cell_type": "code",
      "source": [
        "#Caclulamos los residuales:\n",
        "residuos = y_cleaned - y_pred\n",
        "#Los graficamos\n",
        "plt.figure(figsize=(5, 3)) #Tamaño\n",
        "sns.scatterplot(x=y_pred, y=residuos, color=\"blue\", edgecolor=\"black\") #Diseño\n",
        "plt.axhline(0, color='red', linestyle='--') #Ejes y etiquetas\n",
        "plt.title(\"Gráfico de residuales vs valores predichos\")\n",
        "plt.xlabel(\"Valores predichos (ŷ)\")\n",
        "plt.ylabel(\"Residuales (y - ŷ)\")\n",
        "plt.grid(True)\n",
        "plt.show()\n"
      ],
      "metadata": {
        "colab": {
          "base_uri": "https://localhost:8080/",
          "height": 334
        },
        "id": "Rw6JxdgWSrIM",
        "outputId": "d5151bc8-881e-4262-b8b1-da8601a880b0"
      },
      "execution_count": null,
      "outputs": [
        {
          "output_type": "display_data",
          "data": {
            "text/plain": [
              "<Figure size 500x300 with 1 Axes>"
            ],
            "image/png": "[encoded data removed]"
          },
          "metadata": {}
        }
      ]
    },
    {
      "cell_type": "code",
      "source": [
        "plt.figure(figsize=(5, 3)) #Tamaño\n",
        "plt.hist(residuos, bins=20, color='lavender', edgecolor='black') #Ahora usaremos un histograma\n",
        "plt.title(\"Histograma de los residuales\")\n",
        "plt.xlabel(\"Residuales\")\n",
        "plt.ylabel(\"Frecuencia\")\n",
        "plt.grid(True)\n",
        "plt.show()"
      ],
      "metadata": {
        "colab": {
          "base_uri": "https://localhost:8080/",
          "height": 333
        },
        "id": "AMzVqPOcS5ri",
        "outputId": "10fd89ae-ff70-4a64-cd76-8b651035d23d"
      },
      "execution_count": null,
      "outputs": [
        {
          "output_type": "display_data",
          "data": {
            "text/plain": [
              "<Figure size 500x300 with 1 Axes>"
            ],
            "image/png": "[encoded data removed]"
          },
          "metadata": {}
        }
      ]
    },
    {
      "cell_type": "code",
      "source": [
        "#Aplicaremos unicamente las pruebas de normalidad\n",
        "stat, p = shapiro(residuos)\n",
        "\n",
        "print(f\"Shapiro-Wilk: estadístico={stat:.4f}, p-valor={p:.4f}\")\n",
        "stat, p = kstest(residuos, 'norm')\n",
        "print(f\"Kolmogorov-Smirnov: estadístico={stat:.4f}, p-valor={p:.4f}\")"
      ],
      "metadata": {
        "colab": {
          "base_uri": "https://localhost:8080/"
        },
        "id": "0od-jt3bTIcq",
        "outputId": "81d4d27d-949c-4447-fe3d-54e70c86bef2"
      },
      "execution_count": null,
      "outputs": [
        {
          "output_type": "stream",
          "name": "stdout",
          "text": [
            "Shapiro-Wilk: estadístico=0.9309, p-valor=0.0000\n",
            "Kolmogorov-Smirnov: estadístico=0.2778, p-valor=0.0000\n"
          ]
        }
      ]
    },
    {
      "cell_type": "markdown",
      "source": [
        "A pesar de, haber filtrado ampliamente la base de datos y tener a las variables categóricas ya añadidas, no hemos podido encontrar normalidad en los residuales, es decir, incluso aún cuando el modelo ayude a predecir en un 40% los resultados, no se cumple uno de los supuestos, por lo tanto, no es confiable esta regresión."
      ],
      "metadata": {
        "id": "d-NAlIaVTctB"
      }
    }
  ]
}